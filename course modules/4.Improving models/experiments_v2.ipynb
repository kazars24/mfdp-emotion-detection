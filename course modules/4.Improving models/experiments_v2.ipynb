{
  "nbformat": 4,
  "nbformat_minor": 0,
  "metadata": {
    "colab": {
      "provenance": [],
      "gpuType": "T4",
      "include_colab_link": true
    },
    "kernelspec": {
      "name": "python3",
      "display_name": "Python 3"
    },
    "language_info": {
      "name": "python"
    },
    "accelerator": "GPU",
    "widgets": {
      "application/vnd.jupyter.widget-state+json": {
        "a15f286c84d34ad290fbb976532fe452": {
          "model_module": "@jupyter-widgets/controls",
          "model_name": "HBoxModel",
          "model_module_version": "1.5.0",
          "state": {
            "_dom_classes": [],
            "_model_module": "@jupyter-widgets/controls",
            "_model_module_version": "1.5.0",
            "_model_name": "HBoxModel",
            "_view_count": null,
            "_view_module": "@jupyter-widgets/controls",
            "_view_module_version": "1.5.0",
            "_view_name": "HBoxView",
            "box_style": "",
            "children": [
              "IPY_MODEL_e7e661cdb1724ff7ab8a849997c71de9",
              "IPY_MODEL_3acee778aaf64d6aabe2ee9b056c3dd8",
              "IPY_MODEL_3a952f63c8204b7fbd622fa1b0c3e01a"
            ],
            "layout": "IPY_MODEL_3605e8c6a4674575825f0c139ed68f01"
          }
        },
        "e7e661cdb1724ff7ab8a849997c71de9": {
          "model_module": "@jupyter-widgets/controls",
          "model_name": "HTMLModel",
          "model_module_version": "1.5.0",
          "state": {
            "_dom_classes": [],
            "_model_module": "@jupyter-widgets/controls",
            "_model_module_version": "1.5.0",
            "_model_name": "HTMLModel",
            "_view_count": null,
            "_view_module": "@jupyter-widgets/controls",
            "_view_module_version": "1.5.0",
            "_view_name": "HTMLView",
            "description": "",
            "description_tooltip": null,
            "layout": "IPY_MODEL_6742ec75edc84721b2d83031b5f784b2",
            "placeholder": "​",
            "style": "IPY_MODEL_e199c04b88414d24b68b38ddffc2b11f",
            "value": ""
          }
        },
        "3acee778aaf64d6aabe2ee9b056c3dd8": {
          "model_module": "@jupyter-widgets/controls",
          "model_name": "FloatProgressModel",
          "model_module_version": "1.5.0",
          "state": {
            "_dom_classes": [],
            "_model_module": "@jupyter-widgets/controls",
            "_model_module_version": "1.5.0",
            "_model_name": "FloatProgressModel",
            "_view_count": null,
            "_view_module": "@jupyter-widgets/controls",
            "_view_module_version": "1.5.0",
            "_view_name": "ProgressView",
            "bar_style": "success",
            "description": "",
            "description_tooltip": null,
            "layout": "IPY_MODEL_edc0b92cce0846a585840c5ea8f3e6a5",
            "max": 1,
            "min": 0,
            "orientation": "horizontal",
            "style": "IPY_MODEL_0e4319b268f04687bff13a51c29d661e",
            "value": 1
          }
        },
        "3a952f63c8204b7fbd622fa1b0c3e01a": {
          "model_module": "@jupyter-widgets/controls",
          "model_name": "HTMLModel",
          "model_module_version": "1.5.0",
          "state": {
            "_dom_classes": [],
            "_model_module": "@jupyter-widgets/controls",
            "_model_module_version": "1.5.0",
            "_model_name": "HTMLModel",
            "_view_count": null,
            "_view_module": "@jupyter-widgets/controls",
            "_view_module_version": "1.5.0",
            "_view_name": "HTMLView",
            "description": "",
            "description_tooltip": null,
            "layout": "IPY_MODEL_d983c05647b14af491bf66579eae0cfa",
            "placeholder": "​",
            "style": "IPY_MODEL_53458f3983df4d819696e4b059840f50",
            "value": " 15339/? [04:59&lt;00:00, 73.08it/s]"
          }
        },
        "3605e8c6a4674575825f0c139ed68f01": {
          "model_module": "@jupyter-widgets/base",
          "model_name": "LayoutModel",
          "model_module_version": "1.2.0",
          "state": {
            "_model_module": "@jupyter-widgets/base",
            "_model_module_version": "1.2.0",
            "_model_name": "LayoutModel",
            "_view_count": null,
            "_view_module": "@jupyter-widgets/base",
            "_view_module_version": "1.2.0",
            "_view_name": "LayoutView",
            "align_content": null,
            "align_items": null,
            "align_self": null,
            "border": null,
            "bottom": null,
            "display": null,
            "flex": null,
            "flex_flow": null,
            "grid_area": null,
            "grid_auto_columns": null,
            "grid_auto_flow": null,
            "grid_auto_rows": null,
            "grid_column": null,
            "grid_gap": null,
            "grid_row": null,
            "grid_template_areas": null,
            "grid_template_columns": null,
            "grid_template_rows": null,
            "height": null,
            "justify_content": null,
            "justify_items": null,
            "left": null,
            "margin": null,
            "max_height": null,
            "max_width": null,
            "min_height": null,
            "min_width": null,
            "object_fit": null,
            "object_position": null,
            "order": null,
            "overflow": null,
            "overflow_x": null,
            "overflow_y": null,
            "padding": null,
            "right": null,
            "top": null,
            "visibility": null,
            "width": null
          }
        },
        "6742ec75edc84721b2d83031b5f784b2": {
          "model_module": "@jupyter-widgets/base",
          "model_name": "LayoutModel",
          "model_module_version": "1.2.0",
          "state": {
            "_model_module": "@jupyter-widgets/base",
            "_model_module_version": "1.2.0",
            "_model_name": "LayoutModel",
            "_view_count": null,
            "_view_module": "@jupyter-widgets/base",
            "_view_module_version": "1.2.0",
            "_view_name": "LayoutView",
            "align_content": null,
            "align_items": null,
            "align_self": null,
            "border": null,
            "bottom": null,
            "display": null,
            "flex": null,
            "flex_flow": null,
            "grid_area": null,
            "grid_auto_columns": null,
            "grid_auto_flow": null,
            "grid_auto_rows": null,
            "grid_column": null,
            "grid_gap": null,
            "grid_row": null,
            "grid_template_areas": null,
            "grid_template_columns": null,
            "grid_template_rows": null,
            "height": null,
            "justify_content": null,
            "justify_items": null,
            "left": null,
            "margin": null,
            "max_height": null,
            "max_width": null,
            "min_height": null,
            "min_width": null,
            "object_fit": null,
            "object_position": null,
            "order": null,
            "overflow": null,
            "overflow_x": null,
            "overflow_y": null,
            "padding": null,
            "right": null,
            "top": null,
            "visibility": null,
            "width": null
          }
        },
        "e199c04b88414d24b68b38ddffc2b11f": {
          "model_module": "@jupyter-widgets/controls",
          "model_name": "DescriptionStyleModel",
          "model_module_version": "1.5.0",
          "state": {
            "_model_module": "@jupyter-widgets/controls",
            "_model_module_version": "1.5.0",
            "_model_name": "DescriptionStyleModel",
            "_view_count": null,
            "_view_module": "@jupyter-widgets/base",
            "_view_module_version": "1.2.0",
            "_view_name": "StyleView",
            "description_width": ""
          }
        },
        "edc0b92cce0846a585840c5ea8f3e6a5": {
          "model_module": "@jupyter-widgets/base",
          "model_name": "LayoutModel",
          "model_module_version": "1.2.0",
          "state": {
            "_model_module": "@jupyter-widgets/base",
            "_model_module_version": "1.2.0",
            "_model_name": "LayoutModel",
            "_view_count": null,
            "_view_module": "@jupyter-widgets/base",
            "_view_module_version": "1.2.0",
            "_view_name": "LayoutView",
            "align_content": null,
            "align_items": null,
            "align_self": null,
            "border": null,
            "bottom": null,
            "display": null,
            "flex": null,
            "flex_flow": null,
            "grid_area": null,
            "grid_auto_columns": null,
            "grid_auto_flow": null,
            "grid_auto_rows": null,
            "grid_column": null,
            "grid_gap": null,
            "grid_row": null,
            "grid_template_areas": null,
            "grid_template_columns": null,
            "grid_template_rows": null,
            "height": null,
            "justify_content": null,
            "justify_items": null,
            "left": null,
            "margin": null,
            "max_height": null,
            "max_width": null,
            "min_height": null,
            "min_width": null,
            "object_fit": null,
            "object_position": null,
            "order": null,
            "overflow": null,
            "overflow_x": null,
            "overflow_y": null,
            "padding": null,
            "right": null,
            "top": null,
            "visibility": null,
            "width": "20px"
          }
        },
        "0e4319b268f04687bff13a51c29d661e": {
          "model_module": "@jupyter-widgets/controls",
          "model_name": "ProgressStyleModel",
          "model_module_version": "1.5.0",
          "state": {
            "_model_module": "@jupyter-widgets/controls",
            "_model_module_version": "1.5.0",
            "_model_name": "ProgressStyleModel",
            "_view_count": null,
            "_view_module": "@jupyter-widgets/base",
            "_view_module_version": "1.2.0",
            "_view_name": "StyleView",
            "bar_color": null,
            "description_width": ""
          }
        },
        "d983c05647b14af491bf66579eae0cfa": {
          "model_module": "@jupyter-widgets/base",
          "model_name": "LayoutModel",
          "model_module_version": "1.2.0",
          "state": {
            "_model_module": "@jupyter-widgets/base",
            "_model_module_version": "1.2.0",
            "_model_name": "LayoutModel",
            "_view_count": null,
            "_view_module": "@jupyter-widgets/base",
            "_view_module_version": "1.2.0",
            "_view_name": "LayoutView",
            "align_content": null,
            "align_items": null,
            "align_self": null,
            "border": null,
            "bottom": null,
            "display": null,
            "flex": null,
            "flex_flow": null,
            "grid_area": null,
            "grid_auto_columns": null,
            "grid_auto_flow": null,
            "grid_auto_rows": null,
            "grid_column": null,
            "grid_gap": null,
            "grid_row": null,
            "grid_template_areas": null,
            "grid_template_columns": null,
            "grid_template_rows": null,
            "height": null,
            "justify_content": null,
            "justify_items": null,
            "left": null,
            "margin": null,
            "max_height": null,
            "max_width": null,
            "min_height": null,
            "min_width": null,
            "object_fit": null,
            "object_position": null,
            "order": null,
            "overflow": null,
            "overflow_x": null,
            "overflow_y": null,
            "padding": null,
            "right": null,
            "top": null,
            "visibility": null,
            "width": null
          }
        },
        "53458f3983df4d819696e4b059840f50": {
          "model_module": "@jupyter-widgets/controls",
          "model_name": "DescriptionStyleModel",
          "model_module_version": "1.5.0",
          "state": {
            "_model_module": "@jupyter-widgets/controls",
            "_model_module_version": "1.5.0",
            "_model_name": "DescriptionStyleModel",
            "_view_count": null,
            "_view_module": "@jupyter-widgets/base",
            "_view_module_version": "1.2.0",
            "_view_name": "StyleView",
            "description_width": ""
          }
        },
        "3b853338b6f04c0c9a36d60244c44ca2": {
          "model_module": "@jupyter-widgets/controls",
          "model_name": "HBoxModel",
          "model_module_version": "1.5.0",
          "state": {
            "_dom_classes": [],
            "_model_module": "@jupyter-widgets/controls",
            "_model_module_version": "1.5.0",
            "_model_name": "HBoxModel",
            "_view_count": null,
            "_view_module": "@jupyter-widgets/controls",
            "_view_module_version": "1.5.0",
            "_view_name": "HBoxView",
            "box_style": "",
            "children": [
              "IPY_MODEL_56a847f33c9f4ba290905beee2d994b3",
              "IPY_MODEL_a03a2d2791174bc793019ac4329eca06",
              "IPY_MODEL_bdefd711ebcb43d08105dcc68418bc4e"
            ],
            "layout": "IPY_MODEL_c0f115101de54b98a7644d1d0ef19b5b"
          }
        },
        "56a847f33c9f4ba290905beee2d994b3": {
          "model_module": "@jupyter-widgets/controls",
          "model_name": "HTMLModel",
          "model_module_version": "1.5.0",
          "state": {
            "_dom_classes": [],
            "_model_module": "@jupyter-widgets/controls",
            "_model_module_version": "1.5.0",
            "_model_name": "HTMLModel",
            "_view_count": null,
            "_view_module": "@jupyter-widgets/controls",
            "_view_module_version": "1.5.0",
            "_view_name": "HTMLView",
            "description": "",
            "description_tooltip": null,
            "layout": "IPY_MODEL_f71786fd076c4e2298fe458cddca95c7",
            "placeholder": "​",
            "style": "IPY_MODEL_e2922f71508043cf9aadbccba59ddbbd",
            "value": "100%"
          }
        },
        "a03a2d2791174bc793019ac4329eca06": {
          "model_module": "@jupyter-widgets/controls",
          "model_name": "FloatProgressModel",
          "model_module_version": "1.5.0",
          "state": {
            "_dom_classes": [],
            "_model_module": "@jupyter-widgets/controls",
            "_model_module_version": "1.5.0",
            "_model_name": "FloatProgressModel",
            "_view_count": null,
            "_view_module": "@jupyter-widgets/controls",
            "_view_module_version": "1.5.0",
            "_view_name": "ProgressView",
            "bar_style": "success",
            "description": "",
            "description_tooltip": null,
            "layout": "IPY_MODEL_38962396618545c5a861cc611a5863e8",
            "max": 12271,
            "min": 0,
            "orientation": "horizontal",
            "style": "IPY_MODEL_5daa3a38fafd470981fbe16f31d701dd",
            "value": 12271
          }
        },
        "bdefd711ebcb43d08105dcc68418bc4e": {
          "model_module": "@jupyter-widgets/controls",
          "model_name": "HTMLModel",
          "model_module_version": "1.5.0",
          "state": {
            "_dom_classes": [],
            "_model_module": "@jupyter-widgets/controls",
            "_model_module_version": "1.5.0",
            "_model_name": "HTMLModel",
            "_view_count": null,
            "_view_module": "@jupyter-widgets/controls",
            "_view_module_version": "1.5.0",
            "_view_name": "HTMLView",
            "description": "",
            "description_tooltip": null,
            "layout": "IPY_MODEL_119c71a6f1cf4c8489c9c464749b3c1c",
            "placeholder": "​",
            "style": "IPY_MODEL_588c4f1fac6345a68aab1aa7611b770d",
            "value": " 12271/12271 [00:12&lt;00:00, 1055.96it/s]"
          }
        },
        "c0f115101de54b98a7644d1d0ef19b5b": {
          "model_module": "@jupyter-widgets/base",
          "model_name": "LayoutModel",
          "model_module_version": "1.2.0",
          "state": {
            "_model_module": "@jupyter-widgets/base",
            "_model_module_version": "1.2.0",
            "_model_name": "LayoutModel",
            "_view_count": null,
            "_view_module": "@jupyter-widgets/base",
            "_view_module_version": "1.2.0",
            "_view_name": "LayoutView",
            "align_content": null,
            "align_items": null,
            "align_self": null,
            "border": null,
            "bottom": null,
            "display": null,
            "flex": null,
            "flex_flow": null,
            "grid_area": null,
            "grid_auto_columns": null,
            "grid_auto_flow": null,
            "grid_auto_rows": null,
            "grid_column": null,
            "grid_gap": null,
            "grid_row": null,
            "grid_template_areas": null,
            "grid_template_columns": null,
            "grid_template_rows": null,
            "height": null,
            "justify_content": null,
            "justify_items": null,
            "left": null,
            "margin": null,
            "max_height": null,
            "max_width": null,
            "min_height": null,
            "min_width": null,
            "object_fit": null,
            "object_position": null,
            "order": null,
            "overflow": null,
            "overflow_x": null,
            "overflow_y": null,
            "padding": null,
            "right": null,
            "top": null,
            "visibility": null,
            "width": null
          }
        },
        "f71786fd076c4e2298fe458cddca95c7": {
          "model_module": "@jupyter-widgets/base",
          "model_name": "LayoutModel",
          "model_module_version": "1.2.0",
          "state": {
            "_model_module": "@jupyter-widgets/base",
            "_model_module_version": "1.2.0",
            "_model_name": "LayoutModel",
            "_view_count": null,
            "_view_module": "@jupyter-widgets/base",
            "_view_module_version": "1.2.0",
            "_view_name": "LayoutView",
            "align_content": null,
            "align_items": null,
            "align_self": null,
            "border": null,
            "bottom": null,
            "display": null,
            "flex": null,
            "flex_flow": null,
            "grid_area": null,
            "grid_auto_columns": null,
            "grid_auto_flow": null,
            "grid_auto_rows": null,
            "grid_column": null,
            "grid_gap": null,
            "grid_row": null,
            "grid_template_areas": null,
            "grid_template_columns": null,
            "grid_template_rows": null,
            "height": null,
            "justify_content": null,
            "justify_items": null,
            "left": null,
            "margin": null,
            "max_height": null,
            "max_width": null,
            "min_height": null,
            "min_width": null,
            "object_fit": null,
            "object_position": null,
            "order": null,
            "overflow": null,
            "overflow_x": null,
            "overflow_y": null,
            "padding": null,
            "right": null,
            "top": null,
            "visibility": null,
            "width": null
          }
        },
        "e2922f71508043cf9aadbccba59ddbbd": {
          "model_module": "@jupyter-widgets/controls",
          "model_name": "DescriptionStyleModel",
          "model_module_version": "1.5.0",
          "state": {
            "_model_module": "@jupyter-widgets/controls",
            "_model_module_version": "1.5.0",
            "_model_name": "DescriptionStyleModel",
            "_view_count": null,
            "_view_module": "@jupyter-widgets/base",
            "_view_module_version": "1.2.0",
            "_view_name": "StyleView",
            "description_width": ""
          }
        },
        "38962396618545c5a861cc611a5863e8": {
          "model_module": "@jupyter-widgets/base",
          "model_name": "LayoutModel",
          "model_module_version": "1.2.0",
          "state": {
            "_model_module": "@jupyter-widgets/base",
            "_model_module_version": "1.2.0",
            "_model_name": "LayoutModel",
            "_view_count": null,
            "_view_module": "@jupyter-widgets/base",
            "_view_module_version": "1.2.0",
            "_view_name": "LayoutView",
            "align_content": null,
            "align_items": null,
            "align_self": null,
            "border": null,
            "bottom": null,
            "display": null,
            "flex": null,
            "flex_flow": null,
            "grid_area": null,
            "grid_auto_columns": null,
            "grid_auto_flow": null,
            "grid_auto_rows": null,
            "grid_column": null,
            "grid_gap": null,
            "grid_row": null,
            "grid_template_areas": null,
            "grid_template_columns": null,
            "grid_template_rows": null,
            "height": null,
            "justify_content": null,
            "justify_items": null,
            "left": null,
            "margin": null,
            "max_height": null,
            "max_width": null,
            "min_height": null,
            "min_width": null,
            "object_fit": null,
            "object_position": null,
            "order": null,
            "overflow": null,
            "overflow_x": null,
            "overflow_y": null,
            "padding": null,
            "right": null,
            "top": null,
            "visibility": null,
            "width": null
          }
        },
        "5daa3a38fafd470981fbe16f31d701dd": {
          "model_module": "@jupyter-widgets/controls",
          "model_name": "ProgressStyleModel",
          "model_module_version": "1.5.0",
          "state": {
            "_model_module": "@jupyter-widgets/controls",
            "_model_module_version": "1.5.0",
            "_model_name": "ProgressStyleModel",
            "_view_count": null,
            "_view_module": "@jupyter-widgets/base",
            "_view_module_version": "1.2.0",
            "_view_name": "StyleView",
            "bar_color": null,
            "description_width": ""
          }
        },
        "119c71a6f1cf4c8489c9c464749b3c1c": {
          "model_module": "@jupyter-widgets/base",
          "model_name": "LayoutModel",
          "model_module_version": "1.2.0",
          "state": {
            "_model_module": "@jupyter-widgets/base",
            "_model_module_version": "1.2.0",
            "_model_name": "LayoutModel",
            "_view_count": null,
            "_view_module": "@jupyter-widgets/base",
            "_view_module_version": "1.2.0",
            "_view_name": "LayoutView",
            "align_content": null,
            "align_items": null,
            "align_self": null,
            "border": null,
            "bottom": null,
            "display": null,
            "flex": null,
            "flex_flow": null,
            "grid_area": null,
            "grid_auto_columns": null,
            "grid_auto_flow": null,
            "grid_auto_rows": null,
            "grid_column": null,
            "grid_gap": null,
            "grid_row": null,
            "grid_template_areas": null,
            "grid_template_columns": null,
            "grid_template_rows": null,
            "height": null,
            "justify_content": null,
            "justify_items": null,
            "left": null,
            "margin": null,
            "max_height": null,
            "max_width": null,
            "min_height": null,
            "min_width": null,
            "object_fit": null,
            "object_position": null,
            "order": null,
            "overflow": null,
            "overflow_x": null,
            "overflow_y": null,
            "padding": null,
            "right": null,
            "top": null,
            "visibility": null,
            "width": null
          }
        },
        "588c4f1fac6345a68aab1aa7611b770d": {
          "model_module": "@jupyter-widgets/controls",
          "model_name": "DescriptionStyleModel",
          "model_module_version": "1.5.0",
          "state": {
            "_model_module": "@jupyter-widgets/controls",
            "_model_module_version": "1.5.0",
            "_model_name": "DescriptionStyleModel",
            "_view_count": null,
            "_view_module": "@jupyter-widgets/base",
            "_view_module_version": "1.2.0",
            "_view_name": "StyleView",
            "description_width": ""
          }
        },
        "07c9b4373d144ddd9cb0b64df9a5f9f1": {
          "model_module": "@jupyter-widgets/controls",
          "model_name": "HBoxModel",
          "model_module_version": "1.5.0",
          "state": {
            "_dom_classes": [],
            "_model_module": "@jupyter-widgets/controls",
            "_model_module_version": "1.5.0",
            "_model_name": "HBoxModel",
            "_view_count": null,
            "_view_module": "@jupyter-widgets/controls",
            "_view_module_version": "1.5.0",
            "_view_name": "HBoxView",
            "box_style": "",
            "children": [
              "IPY_MODEL_46c472c22f9b427fbe0fe44239428fe5",
              "IPY_MODEL_4f971371389d4c14a1a23035d8eebd8d",
              "IPY_MODEL_8bae5d8c322441208d72a62a72262763"
            ],
            "layout": "IPY_MODEL_bf84d92477b940768f6392bf5347ee3e"
          }
        },
        "46c472c22f9b427fbe0fe44239428fe5": {
          "model_module": "@jupyter-widgets/controls",
          "model_name": "HTMLModel",
          "model_module_version": "1.5.0",
          "state": {
            "_dom_classes": [],
            "_model_module": "@jupyter-widgets/controls",
            "_model_module_version": "1.5.0",
            "_model_name": "HTMLModel",
            "_view_count": null,
            "_view_module": "@jupyter-widgets/controls",
            "_view_module_version": "1.5.0",
            "_view_name": "HTMLView",
            "description": "",
            "description_tooltip": null,
            "layout": "IPY_MODEL_c467591329e9410f8ea5da37d3960263",
            "placeholder": "​",
            "style": "IPY_MODEL_a4a4fc1a743a41c0866a730f3b50a1f7",
            "value": "100%"
          }
        },
        "4f971371389d4c14a1a23035d8eebd8d": {
          "model_module": "@jupyter-widgets/controls",
          "model_name": "FloatProgressModel",
          "model_module_version": "1.5.0",
          "state": {
            "_dom_classes": [],
            "_model_module": "@jupyter-widgets/controls",
            "_model_module_version": "1.5.0",
            "_model_name": "FloatProgressModel",
            "_view_count": null,
            "_view_module": "@jupyter-widgets/controls",
            "_view_module_version": "1.5.0",
            "_view_name": "ProgressView",
            "bar_style": "success",
            "description": "",
            "description_tooltip": null,
            "layout": "IPY_MODEL_c2c3a6c78361466da4b4c2f4e972d906",
            "max": 3068,
            "min": 0,
            "orientation": "horizontal",
            "style": "IPY_MODEL_df59ecb8bf844f848c089b959c6bca51",
            "value": 3068
          }
        },
        "8bae5d8c322441208d72a62a72262763": {
          "model_module": "@jupyter-widgets/controls",
          "model_name": "HTMLModel",
          "model_module_version": "1.5.0",
          "state": {
            "_dom_classes": [],
            "_model_module": "@jupyter-widgets/controls",
            "_model_module_version": "1.5.0",
            "_model_name": "HTMLModel",
            "_view_count": null,
            "_view_module": "@jupyter-widgets/controls",
            "_view_module_version": "1.5.0",
            "_view_name": "HTMLView",
            "description": "",
            "description_tooltip": null,
            "layout": "IPY_MODEL_efb8ea89cd5747bf9defb09f5ca0a1ad",
            "placeholder": "​",
            "style": "IPY_MODEL_1049f3975f2543da9229beb5e3ca7e11",
            "value": " 3068/3068 [00:07&lt;00:00, 194.03it/s]"
          }
        },
        "bf84d92477b940768f6392bf5347ee3e": {
          "model_module": "@jupyter-widgets/base",
          "model_name": "LayoutModel",
          "model_module_version": "1.2.0",
          "state": {
            "_model_module": "@jupyter-widgets/base",
            "_model_module_version": "1.2.0",
            "_model_name": "LayoutModel",
            "_view_count": null,
            "_view_module": "@jupyter-widgets/base",
            "_view_module_version": "1.2.0",
            "_view_name": "LayoutView",
            "align_content": null,
            "align_items": null,
            "align_self": null,
            "border": null,
            "bottom": null,
            "display": null,
            "flex": null,
            "flex_flow": null,
            "grid_area": null,
            "grid_auto_columns": null,
            "grid_auto_flow": null,
            "grid_auto_rows": null,
            "grid_column": null,
            "grid_gap": null,
            "grid_row": null,
            "grid_template_areas": null,
            "grid_template_columns": null,
            "grid_template_rows": null,
            "height": null,
            "justify_content": null,
            "justify_items": null,
            "left": null,
            "margin": null,
            "max_height": null,
            "max_width": null,
            "min_height": null,
            "min_width": null,
            "object_fit": null,
            "object_position": null,
            "order": null,
            "overflow": null,
            "overflow_x": null,
            "overflow_y": null,
            "padding": null,
            "right": null,
            "top": null,
            "visibility": null,
            "width": null
          }
        },
        "c467591329e9410f8ea5da37d3960263": {
          "model_module": "@jupyter-widgets/base",
          "model_name": "LayoutModel",
          "model_module_version": "1.2.0",
          "state": {
            "_model_module": "@jupyter-widgets/base",
            "_model_module_version": "1.2.0",
            "_model_name": "LayoutModel",
            "_view_count": null,
            "_view_module": "@jupyter-widgets/base",
            "_view_module_version": "1.2.0",
            "_view_name": "LayoutView",
            "align_content": null,
            "align_items": null,
            "align_self": null,
            "border": null,
            "bottom": null,
            "display": null,
            "flex": null,
            "flex_flow": null,
            "grid_area": null,
            "grid_auto_columns": null,
            "grid_auto_flow": null,
            "grid_auto_rows": null,
            "grid_column": null,
            "grid_gap": null,
            "grid_row": null,
            "grid_template_areas": null,
            "grid_template_columns": null,
            "grid_template_rows": null,
            "height": null,
            "justify_content": null,
            "justify_items": null,
            "left": null,
            "margin": null,
            "max_height": null,
            "max_width": null,
            "min_height": null,
            "min_width": null,
            "object_fit": null,
            "object_position": null,
            "order": null,
            "overflow": null,
            "overflow_x": null,
            "overflow_y": null,
            "padding": null,
            "right": null,
            "top": null,
            "visibility": null,
            "width": null
          }
        },
        "a4a4fc1a743a41c0866a730f3b50a1f7": {
          "model_module": "@jupyter-widgets/controls",
          "model_name": "DescriptionStyleModel",
          "model_module_version": "1.5.0",
          "state": {
            "_model_module": "@jupyter-widgets/controls",
            "_model_module_version": "1.5.0",
            "_model_name": "DescriptionStyleModel",
            "_view_count": null,
            "_view_module": "@jupyter-widgets/base",
            "_view_module_version": "1.2.0",
            "_view_name": "StyleView",
            "description_width": ""
          }
        },
        "c2c3a6c78361466da4b4c2f4e972d906": {
          "model_module": "@jupyter-widgets/base",
          "model_name": "LayoutModel",
          "model_module_version": "1.2.0",
          "state": {
            "_model_module": "@jupyter-widgets/base",
            "_model_module_version": "1.2.0",
            "_model_name": "LayoutModel",
            "_view_count": null,
            "_view_module": "@jupyter-widgets/base",
            "_view_module_version": "1.2.0",
            "_view_name": "LayoutView",
            "align_content": null,
            "align_items": null,
            "align_self": null,
            "border": null,
            "bottom": null,
            "display": null,
            "flex": null,
            "flex_flow": null,
            "grid_area": null,
            "grid_auto_columns": null,
            "grid_auto_flow": null,
            "grid_auto_rows": null,
            "grid_column": null,
            "grid_gap": null,
            "grid_row": null,
            "grid_template_areas": null,
            "grid_template_columns": null,
            "grid_template_rows": null,
            "height": null,
            "justify_content": null,
            "justify_items": null,
            "left": null,
            "margin": null,
            "max_height": null,
            "max_width": null,
            "min_height": null,
            "min_width": null,
            "object_fit": null,
            "object_position": null,
            "order": null,
            "overflow": null,
            "overflow_x": null,
            "overflow_y": null,
            "padding": null,
            "right": null,
            "top": null,
            "visibility": null,
            "width": null
          }
        },
        "df59ecb8bf844f848c089b959c6bca51": {
          "model_module": "@jupyter-widgets/controls",
          "model_name": "ProgressStyleModel",
          "model_module_version": "1.5.0",
          "state": {
            "_model_module": "@jupyter-widgets/controls",
            "_model_module_version": "1.5.0",
            "_model_name": "ProgressStyleModel",
            "_view_count": null,
            "_view_module": "@jupyter-widgets/base",
            "_view_module_version": "1.2.0",
            "_view_name": "StyleView",
            "bar_color": null,
            "description_width": ""
          }
        },
        "efb8ea89cd5747bf9defb09f5ca0a1ad": {
          "model_module": "@jupyter-widgets/base",
          "model_name": "LayoutModel",
          "model_module_version": "1.2.0",
          "state": {
            "_model_module": "@jupyter-widgets/base",
            "_model_module_version": "1.2.0",
            "_model_name": "LayoutModel",
            "_view_count": null,
            "_view_module": "@jupyter-widgets/base",
            "_view_module_version": "1.2.0",
            "_view_name": "LayoutView",
            "align_content": null,
            "align_items": null,
            "align_self": null,
            "border": null,
            "bottom": null,
            "display": null,
            "flex": null,
            "flex_flow": null,
            "grid_area": null,
            "grid_auto_columns": null,
            "grid_auto_flow": null,
            "grid_auto_rows": null,
            "grid_column": null,
            "grid_gap": null,
            "grid_row": null,
            "grid_template_areas": null,
            "grid_template_columns": null,
            "grid_template_rows": null,
            "height": null,
            "justify_content": null,
            "justify_items": null,
            "left": null,
            "margin": null,
            "max_height": null,
            "max_width": null,
            "min_height": null,
            "min_width": null,
            "object_fit": null,
            "object_position": null,
            "order": null,
            "overflow": null,
            "overflow_x": null,
            "overflow_y": null,
            "padding": null,
            "right": null,
            "top": null,
            "visibility": null,
            "width": null
          }
        },
        "1049f3975f2543da9229beb5e3ca7e11": {
          "model_module": "@jupyter-widgets/controls",
          "model_name": "DescriptionStyleModel",
          "model_module_version": "1.5.0",
          "state": {
            "_model_module": "@jupyter-widgets/controls",
            "_model_module_version": "1.5.0",
            "_model_name": "DescriptionStyleModel",
            "_view_count": null,
            "_view_module": "@jupyter-widgets/base",
            "_view_module_version": "1.2.0",
            "_view_name": "StyleView",
            "description_width": ""
          }
        },
        "bb565ef105d14a4aabe17c34db40e01e": {
          "model_module": "@jupyter-widgets/controls",
          "model_name": "HBoxModel",
          "model_module_version": "1.5.0",
          "state": {
            "_dom_classes": [],
            "_model_module": "@jupyter-widgets/controls",
            "_model_module_version": "1.5.0",
            "_model_name": "HBoxModel",
            "_view_count": null,
            "_view_module": "@jupyter-widgets/controls",
            "_view_module_version": "1.5.0",
            "_view_name": "HBoxView",
            "box_style": "",
            "children": [
              "IPY_MODEL_9728bbde6ea844e1960a3b6730c1a1ee",
              "IPY_MODEL_2fdf6227415e424c89c817be5d4662e2",
              "IPY_MODEL_7c8c75514aa64fe18994152bff047c94"
            ],
            "layout": "IPY_MODEL_7d50c0e1604f4663976a330a03a5b2f8"
          }
        },
        "9728bbde6ea844e1960a3b6730c1a1ee": {
          "model_module": "@jupyter-widgets/controls",
          "model_name": "HTMLModel",
          "model_module_version": "1.5.0",
          "state": {
            "_dom_classes": [],
            "_model_module": "@jupyter-widgets/controls",
            "_model_module_version": "1.5.0",
            "_model_name": "HTMLModel",
            "_view_count": null,
            "_view_module": "@jupyter-widgets/controls",
            "_view_module_version": "1.5.0",
            "_view_name": "HTMLView",
            "description": "",
            "description_tooltip": null,
            "layout": "IPY_MODEL_0370f3bb66644cf8b2d97d1853ef9433",
            "placeholder": "​",
            "style": "IPY_MODEL_6e5d9b2e3c2f446b91867eddce91e366",
            "value": "100%"
          }
        },
        "2fdf6227415e424c89c817be5d4662e2": {
          "model_module": "@jupyter-widgets/controls",
          "model_name": "FloatProgressModel",
          "model_module_version": "1.5.0",
          "state": {
            "_dom_classes": [],
            "_model_module": "@jupyter-widgets/controls",
            "_model_module_version": "1.5.0",
            "_model_name": "FloatProgressModel",
            "_view_count": null,
            "_view_module": "@jupyter-widgets/controls",
            "_view_module_version": "1.5.0",
            "_view_name": "ProgressView",
            "bar_style": "success",
            "description": "",
            "description_tooltip": null,
            "layout": "IPY_MODEL_7f4e63aadeab4bb1bcb4e2f9349a9d8e",
            "max": 115887415,
            "min": 0,
            "orientation": "horizontal",
            "style": "IPY_MODEL_4e0e9f7d90d84d79a192160f9b1658cd",
            "value": 115887415
          }
        },
        "7c8c75514aa64fe18994152bff047c94": {
          "model_module": "@jupyter-widgets/controls",
          "model_name": "HTMLModel",
          "model_module_version": "1.5.0",
          "state": {
            "_dom_classes": [],
            "_model_module": "@jupyter-widgets/controls",
            "_model_module_version": "1.5.0",
            "_model_name": "HTMLModel",
            "_view_count": null,
            "_view_module": "@jupyter-widgets/controls",
            "_view_module_version": "1.5.0",
            "_view_name": "HTMLView",
            "description": "",
            "description_tooltip": null,
            "layout": "IPY_MODEL_54ae4a476e074b91b7bf7334bdfa4aba",
            "placeholder": "​",
            "style": "IPY_MODEL_9e8cf1c96e9d4a2d90216f0063da972f",
            "value": " 111M/111M [00:01&lt;00:00, 57.9MB/s]"
          }
        },
        "7d50c0e1604f4663976a330a03a5b2f8": {
          "model_module": "@jupyter-widgets/base",
          "model_name": "LayoutModel",
          "model_module_version": "1.2.0",
          "state": {
            "_model_module": "@jupyter-widgets/base",
            "_model_module_version": "1.2.0",
            "_model_name": "LayoutModel",
            "_view_count": null,
            "_view_module": "@jupyter-widgets/base",
            "_view_module_version": "1.2.0",
            "_view_name": "LayoutView",
            "align_content": null,
            "align_items": null,
            "align_self": null,
            "border": null,
            "bottom": null,
            "display": null,
            "flex": null,
            "flex_flow": null,
            "grid_area": null,
            "grid_auto_columns": null,
            "grid_auto_flow": null,
            "grid_auto_rows": null,
            "grid_column": null,
            "grid_gap": null,
            "grid_row": null,
            "grid_template_areas": null,
            "grid_template_columns": null,
            "grid_template_rows": null,
            "height": null,
            "justify_content": null,
            "justify_items": null,
            "left": null,
            "margin": null,
            "max_height": null,
            "max_width": null,
            "min_height": null,
            "min_width": null,
            "object_fit": null,
            "object_position": null,
            "order": null,
            "overflow": null,
            "overflow_x": null,
            "overflow_y": null,
            "padding": null,
            "right": null,
            "top": null,
            "visibility": null,
            "width": null
          }
        },
        "0370f3bb66644cf8b2d97d1853ef9433": {
          "model_module": "@jupyter-widgets/base",
          "model_name": "LayoutModel",
          "model_module_version": "1.2.0",
          "state": {
            "_model_module": "@jupyter-widgets/base",
            "_model_module_version": "1.2.0",
            "_model_name": "LayoutModel",
            "_view_count": null,
            "_view_module": "@jupyter-widgets/base",
            "_view_module_version": "1.2.0",
            "_view_name": "LayoutView",
            "align_content": null,
            "align_items": null,
            "align_self": null,
            "border": null,
            "bottom": null,
            "display": null,
            "flex": null,
            "flex_flow": null,
            "grid_area": null,
            "grid_auto_columns": null,
            "grid_auto_flow": null,
            "grid_auto_rows": null,
            "grid_column": null,
            "grid_gap": null,
            "grid_row": null,
            "grid_template_areas": null,
            "grid_template_columns": null,
            "grid_template_rows": null,
            "height": null,
            "justify_content": null,
            "justify_items": null,
            "left": null,
            "margin": null,
            "max_height": null,
            "max_width": null,
            "min_height": null,
            "min_width": null,
            "object_fit": null,
            "object_position": null,
            "order": null,
            "overflow": null,
            "overflow_x": null,
            "overflow_y": null,
            "padding": null,
            "right": null,
            "top": null,
            "visibility": null,
            "width": null
          }
        },
        "6e5d9b2e3c2f446b91867eddce91e366": {
          "model_module": "@jupyter-widgets/controls",
          "model_name": "DescriptionStyleModel",
          "model_module_version": "1.5.0",
          "state": {
            "_model_module": "@jupyter-widgets/controls",
            "_model_module_version": "1.5.0",
            "_model_name": "DescriptionStyleModel",
            "_view_count": null,
            "_view_module": "@jupyter-widgets/base",
            "_view_module_version": "1.2.0",
            "_view_name": "StyleView",
            "description_width": ""
          }
        },
        "7f4e63aadeab4bb1bcb4e2f9349a9d8e": {
          "model_module": "@jupyter-widgets/base",
          "model_name": "LayoutModel",
          "model_module_version": "1.2.0",
          "state": {
            "_model_module": "@jupyter-widgets/base",
            "_model_module_version": "1.2.0",
            "_model_name": "LayoutModel",
            "_view_count": null,
            "_view_module": "@jupyter-widgets/base",
            "_view_module_version": "1.2.0",
            "_view_name": "LayoutView",
            "align_content": null,
            "align_items": null,
            "align_self": null,
            "border": null,
            "bottom": null,
            "display": null,
            "flex": null,
            "flex_flow": null,
            "grid_area": null,
            "grid_auto_columns": null,
            "grid_auto_flow": null,
            "grid_auto_rows": null,
            "grid_column": null,
            "grid_gap": null,
            "grid_row": null,
            "grid_template_areas": null,
            "grid_template_columns": null,
            "grid_template_rows": null,
            "height": null,
            "justify_content": null,
            "justify_items": null,
            "left": null,
            "margin": null,
            "max_height": null,
            "max_width": null,
            "min_height": null,
            "min_width": null,
            "object_fit": null,
            "object_position": null,
            "order": null,
            "overflow": null,
            "overflow_x": null,
            "overflow_y": null,
            "padding": null,
            "right": null,
            "top": null,
            "visibility": null,
            "width": null
          }
        },
        "4e0e9f7d90d84d79a192160f9b1658cd": {
          "model_module": "@jupyter-widgets/controls",
          "model_name": "ProgressStyleModel",
          "model_module_version": "1.5.0",
          "state": {
            "_model_module": "@jupyter-widgets/controls",
            "_model_module_version": "1.5.0",
            "_model_name": "ProgressStyleModel",
            "_view_count": null,
            "_view_module": "@jupyter-widgets/base",
            "_view_module_version": "1.2.0",
            "_view_name": "StyleView",
            "bar_color": null,
            "description_width": ""
          }
        },
        "54ae4a476e074b91b7bf7334bdfa4aba": {
          "model_module": "@jupyter-widgets/base",
          "model_name": "LayoutModel",
          "model_module_version": "1.2.0",
          "state": {
            "_model_module": "@jupyter-widgets/base",
            "_model_module_version": "1.2.0",
            "_model_name": "LayoutModel",
            "_view_count": null,
            "_view_module": "@jupyter-widgets/base",
            "_view_module_version": "1.2.0",
            "_view_name": "LayoutView",
            "align_content": null,
            "align_items": null,
            "align_self": null,
            "border": null,
            "bottom": null,
            "display": null,
            "flex": null,
            "flex_flow": null,
            "grid_area": null,
            "grid_auto_columns": null,
            "grid_auto_flow": null,
            "grid_auto_rows": null,
            "grid_column": null,
            "grid_gap": null,
            "grid_row": null,
            "grid_template_areas": null,
            "grid_template_columns": null,
            "grid_template_rows": null,
            "height": null,
            "justify_content": null,
            "justify_items": null,
            "left": null,
            "margin": null,
            "max_height": null,
            "max_width": null,
            "min_height": null,
            "min_width": null,
            "object_fit": null,
            "object_position": null,
            "order": null,
            "overflow": null,
            "overflow_x": null,
            "overflow_y": null,
            "padding": null,
            "right": null,
            "top": null,
            "visibility": null,
            "width": null
          }
        },
        "9e8cf1c96e9d4a2d90216f0063da972f": {
          "model_module": "@jupyter-widgets/controls",
          "model_name": "DescriptionStyleModel",
          "model_module_version": "1.5.0",
          "state": {
            "_model_module": "@jupyter-widgets/controls",
            "_model_module_version": "1.5.0",
            "_model_name": "DescriptionStyleModel",
            "_view_count": null,
            "_view_module": "@jupyter-widgets/base",
            "_view_module_version": "1.2.0",
            "_view_name": "StyleView",
            "description_width": ""
          }
        },
        "7046c3d6f0d34567b4b7beb6b2446640": {
          "model_module": "@jupyter-widgets/controls",
          "model_name": "HBoxModel",
          "model_module_version": "1.5.0",
          "state": {
            "_dom_classes": [],
            "_model_module": "@jupyter-widgets/controls",
            "_model_module_version": "1.5.0",
            "_model_name": "HBoxModel",
            "_view_count": null,
            "_view_module": "@jupyter-widgets/controls",
            "_view_module_version": "1.5.0",
            "_view_name": "HBoxView",
            "box_style": "",
            "children": [
              "IPY_MODEL_3fe87f1adc66409cb2d096fca61ecee1",
              "IPY_MODEL_36f3777d31c74d4d8a0b7ca221eb3604",
              "IPY_MODEL_bb7183b71b4a4e508eec66e0a5c686eb"
            ],
            "layout": "IPY_MODEL_fe3c32741eb341a9ac8f2f97d49e5a50"
          }
        },
        "3fe87f1adc66409cb2d096fca61ecee1": {
          "model_module": "@jupyter-widgets/controls",
          "model_name": "HTMLModel",
          "model_module_version": "1.5.0",
          "state": {
            "_dom_classes": [],
            "_model_module": "@jupyter-widgets/controls",
            "_model_module_version": "1.5.0",
            "_model_name": "HTMLModel",
            "_view_count": null,
            "_view_module": "@jupyter-widgets/controls",
            "_view_module_version": "1.5.0",
            "_view_name": "HTMLView",
            "description": "",
            "description_tooltip": null,
            "layout": "IPY_MODEL_6bab12d458b642a18b490c171cfc5ee1",
            "placeholder": "​",
            "style": "IPY_MODEL_c8ea123b9faa4ee18d28851d65c53f6b",
            "value": "100%"
          }
        },
        "36f3777d31c74d4d8a0b7ca221eb3604": {
          "model_module": "@jupyter-widgets/controls",
          "model_name": "FloatProgressModel",
          "model_module_version": "1.5.0",
          "state": {
            "_dom_classes": [],
            "_model_module": "@jupyter-widgets/controls",
            "_model_module_version": "1.5.0",
            "_model_name": "FloatProgressModel",
            "_view_count": null,
            "_view_module": "@jupyter-widgets/controls",
            "_view_module_version": "1.5.0",
            "_view_name": "ProgressView",
            "bar_style": "success",
            "description": "",
            "description_tooltip": null,
            "layout": "IPY_MODEL_6b1aaa1ac26940bcb517152607ad5c42",
            "max": 3068,
            "min": 0,
            "orientation": "horizontal",
            "style": "IPY_MODEL_be57039b45374efb9f916cdfca9001e9",
            "value": 3068
          }
        },
        "bb7183b71b4a4e508eec66e0a5c686eb": {
          "model_module": "@jupyter-widgets/controls",
          "model_name": "HTMLModel",
          "model_module_version": "1.5.0",
          "state": {
            "_dom_classes": [],
            "_model_module": "@jupyter-widgets/controls",
            "_model_module_version": "1.5.0",
            "_model_name": "HTMLModel",
            "_view_count": null,
            "_view_module": "@jupyter-widgets/controls",
            "_view_module_version": "1.5.0",
            "_view_name": "HTMLView",
            "description": "",
            "description_tooltip": null,
            "layout": "IPY_MODEL_e2f5d4984f024bf6aff4c8cc432df200",
            "placeholder": "​",
            "style": "IPY_MODEL_1ec20c89a2d74d1bb29ccc9bae4fdc0d",
            "value": " 3068/3068 [01:18&lt;00:00, 41.18it/s]"
          }
        },
        "fe3c32741eb341a9ac8f2f97d49e5a50": {
          "model_module": "@jupyter-widgets/base",
          "model_name": "LayoutModel",
          "model_module_version": "1.2.0",
          "state": {
            "_model_module": "@jupyter-widgets/base",
            "_model_module_version": "1.2.0",
            "_model_name": "LayoutModel",
            "_view_count": null,
            "_view_module": "@jupyter-widgets/base",
            "_view_module_version": "1.2.0",
            "_view_name": "LayoutView",
            "align_content": null,
            "align_items": null,
            "align_self": null,
            "border": null,
            "bottom": null,
            "display": null,
            "flex": null,
            "flex_flow": null,
            "grid_area": null,
            "grid_auto_columns": null,
            "grid_auto_flow": null,
            "grid_auto_rows": null,
            "grid_column": null,
            "grid_gap": null,
            "grid_row": null,
            "grid_template_areas": null,
            "grid_template_columns": null,
            "grid_template_rows": null,
            "height": null,
            "justify_content": null,
            "justify_items": null,
            "left": null,
            "margin": null,
            "max_height": null,
            "max_width": null,
            "min_height": null,
            "min_width": null,
            "object_fit": null,
            "object_position": null,
            "order": null,
            "overflow": null,
            "overflow_x": null,
            "overflow_y": null,
            "padding": null,
            "right": null,
            "top": null,
            "visibility": null,
            "width": null
          }
        },
        "6bab12d458b642a18b490c171cfc5ee1": {
          "model_module": "@jupyter-widgets/base",
          "model_name": "LayoutModel",
          "model_module_version": "1.2.0",
          "state": {
            "_model_module": "@jupyter-widgets/base",
            "_model_module_version": "1.2.0",
            "_model_name": "LayoutModel",
            "_view_count": null,
            "_view_module": "@jupyter-widgets/base",
            "_view_module_version": "1.2.0",
            "_view_name": "LayoutView",
            "align_content": null,
            "align_items": null,
            "align_self": null,
            "border": null,
            "bottom": null,
            "display": null,
            "flex": null,
            "flex_flow": null,
            "grid_area": null,
            "grid_auto_columns": null,
            "grid_auto_flow": null,
            "grid_auto_rows": null,
            "grid_column": null,
            "grid_gap": null,
            "grid_row": null,
            "grid_template_areas": null,
            "grid_template_columns": null,
            "grid_template_rows": null,
            "height": null,
            "justify_content": null,
            "justify_items": null,
            "left": null,
            "margin": null,
            "max_height": null,
            "max_width": null,
            "min_height": null,
            "min_width": null,
            "object_fit": null,
            "object_position": null,
            "order": null,
            "overflow": null,
            "overflow_x": null,
            "overflow_y": null,
            "padding": null,
            "right": null,
            "top": null,
            "visibility": null,
            "width": null
          }
        },
        "c8ea123b9faa4ee18d28851d65c53f6b": {
          "model_module": "@jupyter-widgets/controls",
          "model_name": "DescriptionStyleModel",
          "model_module_version": "1.5.0",
          "state": {
            "_model_module": "@jupyter-widgets/controls",
            "_model_module_version": "1.5.0",
            "_model_name": "DescriptionStyleModel",
            "_view_count": null,
            "_view_module": "@jupyter-widgets/base",
            "_view_module_version": "1.2.0",
            "_view_name": "StyleView",
            "description_width": ""
          }
        },
        "6b1aaa1ac26940bcb517152607ad5c42": {
          "model_module": "@jupyter-widgets/base",
          "model_name": "LayoutModel",
          "model_module_version": "1.2.0",
          "state": {
            "_model_module": "@jupyter-widgets/base",
            "_model_module_version": "1.2.0",
            "_model_name": "LayoutModel",
            "_view_count": null,
            "_view_module": "@jupyter-widgets/base",
            "_view_module_version": "1.2.0",
            "_view_name": "LayoutView",
            "align_content": null,
            "align_items": null,
            "align_self": null,
            "border": null,
            "bottom": null,
            "display": null,
            "flex": null,
            "flex_flow": null,
            "grid_area": null,
            "grid_auto_columns": null,
            "grid_auto_flow": null,
            "grid_auto_rows": null,
            "grid_column": null,
            "grid_gap": null,
            "grid_row": null,
            "grid_template_areas": null,
            "grid_template_columns": null,
            "grid_template_rows": null,
            "height": null,
            "justify_content": null,
            "justify_items": null,
            "left": null,
            "margin": null,
            "max_height": null,
            "max_width": null,
            "min_height": null,
            "min_width": null,
            "object_fit": null,
            "object_position": null,
            "order": null,
            "overflow": null,
            "overflow_x": null,
            "overflow_y": null,
            "padding": null,
            "right": null,
            "top": null,
            "visibility": null,
            "width": null
          }
        },
        "be57039b45374efb9f916cdfca9001e9": {
          "model_module": "@jupyter-widgets/controls",
          "model_name": "ProgressStyleModel",
          "model_module_version": "1.5.0",
          "state": {
            "_model_module": "@jupyter-widgets/controls",
            "_model_module_version": "1.5.0",
            "_model_name": "ProgressStyleModel",
            "_view_count": null,
            "_view_module": "@jupyter-widgets/base",
            "_view_module_version": "1.2.0",
            "_view_name": "StyleView",
            "bar_color": null,
            "description_width": ""
          }
        },
        "e2f5d4984f024bf6aff4c8cc432df200": {
          "model_module": "@jupyter-widgets/base",
          "model_name": "LayoutModel",
          "model_module_version": "1.2.0",
          "state": {
            "_model_module": "@jupyter-widgets/base",
            "_model_module_version": "1.2.0",
            "_model_name": "LayoutModel",
            "_view_count": null,
            "_view_module": "@jupyter-widgets/base",
            "_view_module_version": "1.2.0",
            "_view_name": "LayoutView",
            "align_content": null,
            "align_items": null,
            "align_self": null,
            "border": null,
            "bottom": null,
            "display": null,
            "flex": null,
            "flex_flow": null,
            "grid_area": null,
            "grid_auto_columns": null,
            "grid_auto_flow": null,
            "grid_auto_rows": null,
            "grid_column": null,
            "grid_gap": null,
            "grid_row": null,
            "grid_template_areas": null,
            "grid_template_columns": null,
            "grid_template_rows": null,
            "height": null,
            "justify_content": null,
            "justify_items": null,
            "left": null,
            "margin": null,
            "max_height": null,
            "max_width": null,
            "min_height": null,
            "min_width": null,
            "object_fit": null,
            "object_position": null,
            "order": null,
            "overflow": null,
            "overflow_x": null,
            "overflow_y": null,
            "padding": null,
            "right": null,
            "top": null,
            "visibility": null,
            "width": null
          }
        },
        "1ec20c89a2d74d1bb29ccc9bae4fdc0d": {
          "model_module": "@jupyter-widgets/controls",
          "model_name": "DescriptionStyleModel",
          "model_module_version": "1.5.0",
          "state": {
            "_model_module": "@jupyter-widgets/controls",
            "_model_module_version": "1.5.0",
            "_model_name": "DescriptionStyleModel",
            "_view_count": null,
            "_view_module": "@jupyter-widgets/base",
            "_view_module_version": "1.2.0",
            "_view_name": "StyleView",
            "description_width": ""
          }
        }
      }
    }
  },
  "cells": [
    {
      "cell_type": "markdown",
      "metadata": {
        "id": "view-in-github",
        "colab_type": "text"
      },
      "source": [
        "<a href=\"https://colab.research.google.com/github/kazars24/mfdp-emotion-detection/blob/main/course%20modules/4.Improving%20models/experiments_v2.ipynb\" target=\"_parent\"><img src=\"https://colab.research.google.com/assets/colab-badge.svg\" alt=\"Open In Colab\"/></a>"
      ]
    },
    {
      "cell_type": "markdown",
      "source": [
        "# Модуль 4. Улучшение модели (версия 2)"
      ],
      "metadata": {
        "id": "LVUyX1D-cljs"
      }
    },
    {
      "cell_type": "markdown",
      "source": [
        "В данном ноутбуке я подготовил несколько моделей и сравнил их по точности и скорости работы.\n",
        "\n",
        "**Детекция лица на изображении.** Для этой задачи были использованы:\n",
        "1. MTCNN из библиотеки facenet_pytorch;\n",
        "2. MTCNN из библиотеки fer;\n",
        "3. каскад Хаара из библиотеки fer;\n",
        "4. YOLOv8.\n",
        "\n",
        "**Распознавание эмоций.**Были рассмотрены следующие модели:\n",
        "\n",
        "\n",
        "1.   InceptionResnetV1(pretrained='vggface2') с файнтюнингом на RAF Face Database;\n",
        "2. InceptionResnetV1(pretrained='casia-webface') с файнтюнингом на RAF Face Database;\n",
        "3. InceptionResnetV1 с обучением на RAF Face Database.\n",
        "\n",
        "Проверка моделей осуществлялась на тестовой части датасета [RAF Face Database](http://www.whdeng.cn/raf/model1.html).\n",
        "\n",
        "Используемый инструменты версионирования экспериментов - clearML.\n"
      ],
      "metadata": {
        "id": "MnHvpflCcrtS"
      }
    },
    {
      "cell_type": "markdown",
      "source": [
        "## Установка и импорт библиотек"
      ],
      "metadata": {
        "id": "3jbMwgUzeAdz"
      }
    },
    {
      "cell_type": "code",
      "execution_count": null,
      "metadata": {
        "id": "JRGB5Yb_Wm7Y"
      },
      "outputs": [],
      "source": [
        "!pip install torcheval\n",
        "!pip install facenet_pytorch\n",
        "!pip install clearml\n",
        "!pip install FER\n",
        "!pip install -U torchmetrics\n",
        "!pip install pybboxes\n",
        "!pip install ultralytics"
      ]
    },
    {
      "cell_type": "code",
      "source": [
        "import os\n",
        "import pandas as pd\n",
        "import pickle\n",
        "import time\n",
        "import numpy as np\n",
        "import matplotlib.pyplot as plt\n",
        "import seaborn as sns\n",
        "import cv2\n",
        "from PIL import Image, ImageDraw\n",
        "from google.colab.patches import cv2_imshow\n",
        "import shutil\n",
        "from tqdm.notebook import tqdm\n",
        "from sklearn.metrics import confusion_matrix\n",
        "\n",
        "import torch\n",
        "from torch.utils.data import DataLoader, SubsetRandomSampler\n",
        "from torch import optim\n",
        "from torch.optim.lr_scheduler import MultiStepLR, ExponentialLR\n",
        "from torch.utils.tensorboard import SummaryWriter\n",
        "import torchvision\n",
        "from torchvision import datasets, models, transforms\n",
        "from torchvision.utils import make_grid\n",
        "\n",
        "from facenet_pytorch import MTCNN, InceptionResnetV1, training\n",
        "from fer import FER\n",
        "from ultralytics import YOLO\n",
        "import pybboxes as pbx\n",
        "\n",
        "from clearml import Task, Logger\n",
        "\n",
        "%matplotlib inline\n",
        "sns.set(style='darkgrid', font_scale=1.2)"
      ],
      "metadata": {
        "id": "j5-nVmWKZfST"
      },
      "execution_count": null,
      "outputs": []
    },
    {
      "cell_type": "markdown",
      "source": [
        "## Загузка и подготовка данных"
      ],
      "metadata": {
        "id": "GhVsPr3sea85"
      }
    },
    {
      "cell_type": "code",
      "source": [
        "from google.colab import drive\n",
        "drive.mount('/content/drive')"
      ],
      "metadata": {
        "colab": {
          "base_uri": "https://localhost:8080/"
        },
        "id": "7eAjelYLZpm7",
        "outputId": "86632163-7a9c-4e31-b326-402151dfb9dc"
      },
      "execution_count": null,
      "outputs": [
        {
          "output_type": "stream",
          "name": "stdout",
          "text": [
            "Mounted at /content/drive\n"
          ]
        }
      ]
    },
    {
      "cell_type": "code",
      "source": [
        "device = torch.device('cuda' if torch.cuda.is_available() else 'cpu')\n",
        "device"
      ],
      "metadata": {
        "colab": {
          "base_uri": "https://localhost:8080/"
        },
        "id": "Gx9sxaw0ZuX8",
        "outputId": "a3bddc02-e3ad-4732-afc2-7dd12c6b91b0"
      },
      "execution_count": null,
      "outputs": [
        {
          "output_type": "execute_result",
          "data": {
            "text/plain": [
              "device(type='cuda')"
            ]
          },
          "metadata": {},
          "execution_count": 30
        }
      ]
    },
    {
      "cell_type": "code",
      "source": [
        "!unzip /content/drive/MyDrive/raf_face_dataset/original.zip -d /content/raf_face_original/"
      ],
      "metadata": {
        "id": "8MpSNRGUZ4Z6"
      },
      "execution_count": null,
      "outputs": []
    },
    {
      "cell_type": "code",
      "source": [
        "!unzip /content/drive/MyDrive/raf_face_dataset/boundingbox.zip -d /content/raf_face_bbox/"
      ],
      "metadata": {
        "id": "rEpJlAn0aP9j"
      },
      "execution_count": null,
      "outputs": []
    },
    {
      "cell_type": "code",
      "source": [
        "with open('/content/drive/MyDrive/raf_face_dataset/list_patition_label.txt') as file:\n",
        "    #lines = [line.rstrip() for line in file if 'test_' in line]\n",
        "    train_img_files = []\n",
        "    test_img_files = []\n",
        "    for line in file:\n",
        "        if 'train_' in line:\n",
        "            name, label = line.rstrip().split(' ')\n",
        "            train_img_files.append([name, int(label)])\n",
        "        if 'test_' in line:\n",
        "            name, label = line.rstrip().split(' ')\n",
        "            test_img_files.append([name, int(label)])\n",
        "\n",
        "assert len(train_img_files) + len(test_img_files) == 15339, \"Smth is wrong\""
      ],
      "metadata": {
        "id": "R0FiHbM3amQz"
      },
      "execution_count": null,
      "outputs": []
    },
    {
      "cell_type": "code",
      "source": [
        "def iou(boxA, boxB):\n",
        "\txA = max(boxA[0], boxB[0])\n",
        "\tyA = max(boxA[1], boxB[1])\n",
        "\txB = min(boxA[2], boxB[2])\n",
        "\tyB = min(boxA[3], boxB[3])\n",
        "\tinterArea = max(0, xB - xA + 1) * max(0, yB - yA + 1)\n",
        "\tboxAArea = (boxA[2] - boxA[0] + 1) * (boxA[3] - boxA[1] + 1)\n",
        "\tboxBArea = (boxB[2] - boxB[0] + 1) * (boxB[3] - boxB[1] + 1)\n",
        "\tiou = interArea / float(boxAArea + boxBArea - interArea)\n",
        "\treturn iou"
      ],
      "metadata": {
        "id": "vS7OjFFbiXIO"
      },
      "execution_count": null,
      "outputs": []
    },
    {
      "cell_type": "markdown",
      "source": [
        "## Детекция лиц"
      ],
      "metadata": {
        "id": "m1DtCYmYeep9"
      }
    },
    {
      "cell_type": "markdown",
      "source": [
        "Все модели сравнивались по нескольким показателям:\n",
        "1. среднее время работы алгорима;\n",
        "2. среднее значение IoU;\n",
        "3. кол-во лиц, которых не удалось распознать.\n",
        "\n",
        "Такой подход позволил проанализировать полученные результаты и выбрать наиболее оптимальную модель."
      ],
      "metadata": {
        "id": "HKdGvSv-gdLX"
      }
    },
    {
      "cell_type": "markdown",
      "source": [
        "### MTCNN из библиотеки facenet_pytorch"
      ],
      "metadata": {
        "id": "_T2LHuiper7i"
      }
    },
    {
      "cell_type": "code",
      "source": [
        "mtcnn = MTCNN(keep_all=True, device=device).eval()"
      ],
      "metadata": {
        "id": "6N0WHemleWoi"
      },
      "execution_count": null,
      "outputs": []
    },
    {
      "cell_type": "code",
      "source": [
        "time_per_img = []\n",
        "iou_scores = []\n",
        "no_f_count = 0\n",
        "\n",
        "for item in test_img_files:\n",
        "    img_name = '/content/raf_face_original/original/' + item[0]\n",
        "    bbox_name = '/content/raf_face_bbox/boundingbox/' + item[0][:-4] + '_boundingbox.txt'\n",
        "    with Image.open(img_name) as img:\n",
        "        img.load()\n",
        "    with open(bbox_name) as file:\n",
        "        for line in file:\n",
        "            bbox_true = list(map(float, line.rstrip().split(' ')))\n",
        "\n",
        "    start_time = time.time()\n",
        "    bbox_pred, _ = mtcnn.detect(img)\n",
        "    time_per_img.append(time.time() - start_time)\n",
        "    try:\n",
        "        bbox_pred = bbox_pred[0]\n",
        "        iou_scores.append(iou(bbox_true, bbox_pred))\n",
        "    except:\n",
        "        iou_scores.append(0)\n",
        "        no_f_count += 1\n",
        "\n",
        "print(\"MTCNN facenet_pytorch\")\n",
        "print(f\"Размер выборки: {len(test_img_files)}\")\n",
        "print(f\"Не найдено лиц: {no_f_count} ({no_f_count / len(test_img_files) * 100}%)\")\n",
        "print(f\"Ср. время: {sum(time_per_img) / len(time_per_img)}\")\n",
        "print(f\"Ср. IoU: {sum(iou_scores) / len(iou_scores)}\")"
      ],
      "metadata": {
        "colab": {
          "base_uri": "https://localhost:8080/"
        },
        "id": "iBjM3K96buqk",
        "outputId": "9cc46b15-cc50-4919-9470-411478b361d4"
      },
      "execution_count": null,
      "outputs": [
        {
          "output_type": "stream",
          "name": "stdout",
          "text": [
            "MTCNN facenet_pytorch\n",
            "Размер выборки: 3068\n",
            "Не найдено лиц: 77 (2.509778357235984%)\n",
            "Ср. время: 0.1817269340021514\n",
            "Ср. IoU: 0.8231199845247715\n"
          ]
        }
      ]
    },
    {
      "cell_type": "markdown",
      "source": [
        "### MTCNN из библиотеки fer"
      ],
      "metadata": {
        "id": "hR7f9ZUIe3sL"
      }
    },
    {
      "cell_type": "code",
      "source": [
        "detector = FER(mtcnn=True)"
      ],
      "metadata": {
        "id": "cIgIQA_5oX95"
      },
      "execution_count": null,
      "outputs": []
    },
    {
      "cell_type": "code",
      "source": [
        "time_per_img = []\n",
        "iou_scores = []\n",
        "no_f_count = 0\n",
        "\n",
        "for item in test_img_files:\n",
        "    img_name = '/content/raf_face_original/original/' + item[0]\n",
        "    bbox_name = '/content/raf_face_bbox/boundingbox/' + item[0][:-4] + '_boundingbox.txt'\n",
        "    img = cv2.imread(img_name)\n",
        "    with open(bbox_name) as file:\n",
        "        for line in file:\n",
        "            bbox_true = list(map(float, line.rstrip().split(' ')))\n",
        "    start_time = time.time()\n",
        "    face_bbox = detector.find_faces(img)\n",
        "    time_per_img.append(time.time() - start_time)\n",
        "    try:\n",
        "        bbox_pred = [face_bbox[0][0],\n",
        "                     face_bbox[0][1],\n",
        "                     face_bbox[0][2] + face_bbox[0][0],\n",
        "                     face_bbox[0][3] + face_bbox[0][1]\n",
        "                     ]\n",
        "        iou_scores.append(iou(bbox_true, bbox_pred))\n",
        "    except:\n",
        "        iou_scores.append(0)\n",
        "        no_f_count += 1\n",
        "\n",
        "print(\"FER(mtcnn=True)\")\n",
        "print(f\"Размер выборки: {len(test_img_files)}\")\n",
        "print(f\"Не найдено лиц: {no_f_count} ({no_f_count / len(test_img_files) * 100}%)\")\n",
        "print(f\"Ср. время: {sum(time_per_img) / len(time_per_img)}\")\n",
        "print(f\"Ср. IoU: {sum(iou_scores) / len(iou_scores)}\")"
      ],
      "metadata": {
        "colab": {
          "base_uri": "https://localhost:8080/"
        },
        "id": "YOq20yr3ovX9",
        "outputId": "6b4d61df-3f0c-4531-c554-b0163abf53f1"
      },
      "execution_count": null,
      "outputs": [
        {
          "output_type": "stream",
          "name": "stdout",
          "text": [
            "FER(mtcnn=True)\n",
            "Размер выборки: 3068\n",
            "Не найдено лиц: 427 (13.917861799217732%)\n",
            "Ср. время: 0.22796306655180035\n",
            "Ср. IoU: 0.7192383859234843\n"
          ]
        }
      ]
    },
    {
      "cell_type": "markdown",
      "source": [
        "### Каскад Хаара из библиотеки fer"
      ],
      "metadata": {
        "id": "zjZjaSowe8QS"
      }
    },
    {
      "cell_type": "code",
      "source": [
        "detector = FER(mtcnn=False)\n",
        "\n",
        "time_per_img = []\n",
        "iou_scores = []\n",
        "no_f_count = 0\n",
        "\n",
        "for item in test_img_files:\n",
        "    img_name = '/content/raf_face_original/original/' + item[0]\n",
        "    bbox_name = '/content/raf_face_bbox/boundingbox/' + item[0][:-4] + '_boundingbox.txt'\n",
        "    img = cv2.imread(img_name)\n",
        "    with open(bbox_name) as file:\n",
        "        for line in file:\n",
        "            bbox_true = list(map(float, line.rstrip().split(' ')))\n",
        "\n",
        "    start_time = time.time()\n",
        "    face_bbox = detector.find_faces(img)\n",
        "    time_per_img.append(time.time() - start_time)\n",
        "\n",
        "    try:\n",
        "        bbox_pred = [face_bbox[0][0],\n",
        "                     face_bbox[0][1],\n",
        "                     face_bbox[0][2] + face_bbox[0][0],\n",
        "                     face_bbox[0][3] + face_bbox[0][1]\n",
        "                     ]\n",
        "        iou_scores.append(iou(bbox_true, bbox_pred))\n",
        "    except:\n",
        "        iou_scores.append(0)\n",
        "        no_f_count += 1\n",
        "\n",
        "\n",
        "print(\"FER(mtcnn=False)\")\n",
        "print(f\"Размер выборки: {len(test_img_files)}\")\n",
        "print(f\"Не найдено лиц: {no_f_count} ({no_f_count / len(test_img_files) * 100}%)\")\n",
        "print(f\"Ср. время: {sum(time_per_img) / len(time_per_img)}\")\n",
        "print(f\"Ср. IoU: {sum(iou_scores) / len(iou_scores)}\")"
      ],
      "metadata": {
        "colab": {
          "base_uri": "https://localhost:8080/"
        },
        "id": "4WpX9RqypXT5",
        "outputId": "e9dd679c-1a3c-447f-8ef8-3e96d6f2caf7"
      },
      "execution_count": null,
      "outputs": [
        {
          "output_type": "stream",
          "name": "stdout",
          "text": [
            "FER(mtcnn=False)\n",
            "Размер выборки: 3068\n",
            "Не найдено лиц: 643 (20.958279009126468%)\n",
            "Ср. время: 0.10457187852150769\n",
            "Ср. IoU: 0.512306967019732\n"
          ]
        }
      ]
    },
    {
      "cell_type": "markdown",
      "source": [
        "### YOLOv8"
      ],
      "metadata": {
        "id": "yVqZ-W3yfEh8"
      }
    },
    {
      "cell_type": "markdown",
      "source": [
        "#### Подготовка данных для обучения"
      ],
      "metadata": {
        "id": "-_9Ac-7qfHem"
      }
    },
    {
      "cell_type": "code",
      "source": [
        "!mkdir raf_dataset"
      ],
      "metadata": {
        "id": "6kAtg3QX0L5Z"
      },
      "execution_count": null,
      "outputs": []
    },
    {
      "cell_type": "code",
      "source": [
        "!mkdir raf_dataset/images"
      ],
      "metadata": {
        "id": "NSAxhW_R0UgO"
      },
      "execution_count": null,
      "outputs": []
    },
    {
      "cell_type": "code",
      "source": [
        "!mkdir raf_dataset/labels"
      ],
      "metadata": {
        "id": "_gCYLDIg0aAL"
      },
      "execution_count": null,
      "outputs": []
    },
    {
      "cell_type": "code",
      "source": [
        "!mkdir raf_dataset/images/train"
      ],
      "metadata": {
        "id": "G0OEqCkx0ju3"
      },
      "execution_count": null,
      "outputs": []
    },
    {
      "cell_type": "code",
      "source": [
        "!mkdir raf_dataset/images/val"
      ],
      "metadata": {
        "id": "kS1b584B0nOb"
      },
      "execution_count": null,
      "outputs": []
    },
    {
      "cell_type": "code",
      "source": [
        "!mkdir raf_dataset/labels/train"
      ],
      "metadata": {
        "id": "UmQ-7mIt0pVd"
      },
      "execution_count": null,
      "outputs": []
    },
    {
      "cell_type": "code",
      "source": [
        "!mkdir raf_dataset/labels/val"
      ],
      "metadata": {
        "id": "wTjuSAgD0sdS"
      },
      "execution_count": null,
      "outputs": []
    },
    {
      "cell_type": "code",
      "source": [
        "img_from_dir = '/content/raf_face_original/original/'\n",
        "bbox_from_dir = '/content/raf_face_bbox/boundingbox/'\n",
        "img_to_dir_train = '/content/raf_dataset/images/train/'\n",
        "label_to_dir_train = '/content/raf_dataset/labels/train/'\n",
        "img_to_dir_val = '/content/raf_dataset/images/val/'\n",
        "label_to_dir_val = '/content/raf_dataset/labels/val/'\n",
        "\n",
        "with open('/content/drive/MyDrive/raf_face_dataset/list_patition_label.txt') as file:\n",
        "    for line in tqdm(file):\n",
        "        img_name, _ = line.rstrip().split(' ')\n",
        "        old_img_path = img_from_dir + img_name\n",
        "        old_bbox_path = bbox_from_dir + img_name[:-4] + '_boundingbox.txt'\n",
        "        if 'train_' in line:\n",
        "            new_img_path = img_to_dir_train + img_name\n",
        "            new_label_path = label_to_dir_train + img_name.split('.')[0] + '.txt'\n",
        "        if 'test_' in line:\n",
        "            new_img_path = img_to_dir_val + img_name\n",
        "            new_label_path = label_to_dir_val + img_name.split('.')[0] + '.txt'\n",
        "        with Image.open(old_img_path) as img:\n",
        "            img.load()\n",
        "        width, height = img.size\n",
        "        with open(old_bbox_path) as file:\n",
        "            for line in file:\n",
        "                bbox_true = list(map(float, line.rstrip().split(' ')))\n",
        "        bbox_true_yolo = pbx.convert_bbox(bbox_true, from_type=\"voc\", to_type=\"yolo\", image_size=(width, height))\n",
        "        new_label = f\"0 {bbox_true_yolo[0]} {bbox_true_yolo[1]} {bbox_true_yolo[2]} {bbox_true_yolo[3]}\"\n",
        "        #shutil.move(old_img_path, new_img_path, copy_function = shutil.copytree)\n",
        "        img.save(new_img_path)\n",
        "        with open(new_label_path, \"w\") as f:\n",
        "            for line in new_label:\n",
        "                f.write(line)\n"
      ],
      "metadata": {
        "colab": {
          "base_uri": "https://localhost:8080/",
          "height": 49,
          "referenced_widgets": [
            "a15f286c84d34ad290fbb976532fe452",
            "e7e661cdb1724ff7ab8a849997c71de9",
            "3acee778aaf64d6aabe2ee9b056c3dd8",
            "3a952f63c8204b7fbd622fa1b0c3e01a",
            "3605e8c6a4674575825f0c139ed68f01",
            "6742ec75edc84721b2d83031b5f784b2",
            "e199c04b88414d24b68b38ddffc2b11f",
            "edc0b92cce0846a585840c5ea8f3e6a5",
            "0e4319b268f04687bff13a51c29d661e",
            "d983c05647b14af491bf66579eae0cfa",
            "53458f3983df4d819696e4b059840f50"
          ]
        },
        "id": "r6BOwnbM0wll",
        "outputId": "5c0d5100-1b52-43f1-a701-5ab165f9f046"
      },
      "execution_count": null,
      "outputs": [
        {
          "output_type": "display_data",
          "data": {
            "text/plain": [
              "0it [00:00, ?it/s]"
            ],
            "application/vnd.jupyter.widget-view+json": {
              "version_major": 2,
              "version_minor": 0,
              "model_id": "a15f286c84d34ad290fbb976532fe452"
            }
          },
          "metadata": {}
        }
      ]
    },
    {
      "cell_type": "markdown",
      "source": [
        "#### Обучение модели"
      ],
      "metadata": {
        "id": "xSuKn19cfRgm"
      }
    },
    {
      "cell_type": "code",
      "source": [
        "%env CLEARML_WEB_HOST=https://app.clear.ml\n",
        "%env CLEARML_API_HOST=https://api.clear.ml\n",
        "%env CLEARML_FILES_HOST=https://files.clear.ml\n",
        "%env CLEARML_API_ACCESS_KEY=F6KM2HNXU0U5VQ0GYLTI\n",
        "%env CLEARML_API_SECRET_KEY=9SY1dPWOn0NrS2Fwwlalh6HPEaSxhtr0FNbB1KW8py7SB5EKLI"
      ],
      "metadata": {
        "colab": {
          "base_uri": "https://localhost:8080/"
        },
        "id": "7z0GvgT7uQcV",
        "outputId": "ebabf621-961b-4c63-ed5b-06ebe6f009bd"
      },
      "execution_count": null,
      "outputs": [
        {
          "output_type": "stream",
          "name": "stdout",
          "text": [
            "env: CLEARML_WEB_HOST=https://app.clear.ml\n",
            "env: CLEARML_API_HOST=https://api.clear.ml\n",
            "env: CLEARML_FILES_HOST=https://files.clear.ml\n",
            "env: CLEARML_API_ACCESS_KEY=F6KM2HNXU0U5VQ0GYLTI\n",
            "env: CLEARML_API_SECRET_KEY=9SY1dPWOn0NrS2Fwwlalh6HPEaSxhtr0FNbB1KW8py7SB5EKLI\n"
          ]
        }
      ]
    },
    {
      "cell_type": "code",
      "source": [
        "!clearml-init"
      ],
      "metadata": {
        "id": "5r53uFIhuRc-"
      },
      "execution_count": null,
      "outputs": []
    },
    {
      "cell_type": "code",
      "source": [
        "#task.close()\n",
        "task = Task.init(\n",
        "    project_name='Emotion detection',\n",
        "    task_name='yolov8n_raf_e10_b64',\n",
        "    tags=['yolov8n'])"
      ],
      "metadata": {
        "id": "HKXikEOruTc5"
      },
      "execution_count": null,
      "outputs": []
    },
    {
      "cell_type": "code",
      "source": [
        "model = YOLO('yolov8n.pt')"
      ],
      "metadata": {
        "colab": {
          "base_uri": "https://localhost:8080/"
        },
        "id": "POR0KiKhRFjI",
        "outputId": "14423d5a-55dc-413f-e09f-b38280c6fd60"
      },
      "execution_count": null,
      "outputs": [
        {
          "output_type": "stream",
          "name": "stdout",
          "text": [
            "2023-06-22 10:51:16,225 - clearml.model - INFO - Selected model id: d546609ce21e421cb13c8915ad454d1e\n"
          ]
        }
      ]
    },
    {
      "cell_type": "code",
      "source": [
        "model.train(data='raf.yaml', epochs=10, batch=64, name='yolov8n_raf_e10_b64')"
      ],
      "metadata": {
        "colab": {
          "base_uri": "https://localhost:8080/",
          "height": 1000
        },
        "id": "Cw2kELJKRcYq",
        "outputId": "5f76fc5c-9f5c-44c7-eb8c-e36271c60d6b"
      },
      "execution_count": null,
      "outputs": [
        {
          "output_type": "stream",
          "name": "stderr",
          "text": [
            "Ultralytics YOLOv8.0.121 🚀 Python-3.10.12 torch-2.0.1+cu118 CUDA:0 (Tesla T4, 15102MiB)\n",
            "\u001b[34m\u001b[1myolo/engine/trainer: \u001b[0mtask=detect, mode=train, model=yolov8n.pt, data=raf.yaml, epochs=10, patience=50, batch=64, imgsz=640, save=True, save_period=-1, cache=False, device=None, workers=8, project=None, name=yolov8n_raf_e10_b64, exist_ok=False, pretrained=True, optimizer=auto, verbose=True, seed=0, deterministic=True, single_cls=False, rect=False, cos_lr=False, close_mosaic=0, resume=False, amp=True, fraction=1.0, profile=False, overlap_mask=True, mask_ratio=4, dropout=0.0, val=True, split=val, save_json=False, save_hybrid=False, conf=None, iou=0.7, max_det=300, half=False, dnn=False, plots=True, source=None, show=False, save_txt=False, save_conf=False, save_crop=False, show_labels=True, show_conf=True, vid_stride=1, line_width=None, visualize=False, augment=False, agnostic_nms=False, classes=None, retina_masks=False, boxes=True, format=torchscript, keras=False, optimize=False, int8=False, dynamic=False, simplify=False, opset=None, workspace=4, nms=False, lr0=0.01, lrf=0.01, momentum=0.937, weight_decay=0.0005, warmup_epochs=3.0, warmup_momentum=0.8, warmup_bias_lr=0.1, box=7.5, cls=0.5, dfl=1.5, pose=12.0, kobj=1.0, label_smoothing=0.0, nbs=64, hsv_h=0.015, hsv_s=0.7, hsv_v=0.4, degrees=0.0, translate=0.1, scale=0.5, shear=0.0, perspective=0.0, flipud=0.0, fliplr=0.5, mosaic=1.0, mixup=0.0, copy_paste=0.0, cfg=None, v5loader=False, tracker=botsort.yaml, save_dir=runs/detect/yolov8n_raf_e10_b642\n",
            "Downloading https://ultralytics.com/assets/Arial.ttf to /root/.config/Ultralytics/Arial.ttf...\n",
            "100%|██████████| 755k/755k [00:00<00:00, 32.9MB/s]\n",
            "Overriding model.yaml nc=80 with nc=1\n",
            "\n",
            "                   from  n    params  module                                       arguments                     \n",
            "  0                  -1  1       464  ultralytics.nn.modules.conv.Conv             [3, 16, 3, 2]                 \n",
            "  1                  -1  1      4672  ultralytics.nn.modules.conv.Conv             [16, 32, 3, 2]                \n",
            "  2                  -1  1      7360  ultralytics.nn.modules.block.C2f             [32, 32, 1, True]             \n",
            "  3                  -1  1     18560  ultralytics.nn.modules.conv.Conv             [32, 64, 3, 2]                \n",
            "  4                  -1  2     49664  ultralytics.nn.modules.block.C2f             [64, 64, 2, True]             \n",
            "  5                  -1  1     73984  ultralytics.nn.modules.conv.Conv             [64, 128, 3, 2]               \n",
            "  6                  -1  2    197632  ultralytics.nn.modules.block.C2f             [128, 128, 2, True]           \n",
            "  7                  -1  1    295424  ultralytics.nn.modules.conv.Conv             [128, 256, 3, 2]              \n",
            "  8                  -1  1    460288  ultralytics.nn.modules.block.C2f             [256, 256, 1, True]           \n",
            "  9                  -1  1    164608  ultralytics.nn.modules.block.SPPF            [256, 256, 5]                 \n",
            " 10                  -1  1         0  torch.nn.modules.upsampling.Upsample         [None, 2, 'nearest']          \n",
            " 11             [-1, 6]  1         0  ultralytics.nn.modules.conv.Concat           [1]                           \n",
            " 12                  -1  1    148224  ultralytics.nn.modules.block.C2f             [384, 128, 1]                 \n",
            " 13                  -1  1         0  torch.nn.modules.upsampling.Upsample         [None, 2, 'nearest']          \n",
            " 14             [-1, 4]  1         0  ultralytics.nn.modules.conv.Concat           [1]                           \n",
            " 15                  -1  1     37248  ultralytics.nn.modules.block.C2f             [192, 64, 1]                  \n",
            " 16                  -1  1     36992  ultralytics.nn.modules.conv.Conv             [64, 64, 3, 2]                \n",
            " 17            [-1, 12]  1         0  ultralytics.nn.modules.conv.Concat           [1]                           \n",
            " 18                  -1  1    123648  ultralytics.nn.modules.block.C2f             [192, 128, 1]                 \n",
            " 19                  -1  1    147712  ultralytics.nn.modules.conv.Conv             [128, 128, 3, 2]              \n",
            " 20             [-1, 9]  1         0  ultralytics.nn.modules.conv.Concat           [1]                           \n",
            " 21                  -1  1    493056  ultralytics.nn.modules.block.C2f             [384, 256, 1]                 \n",
            " 22        [15, 18, 21]  1    751507  ultralytics.nn.modules.head.Detect           [1, [64, 128, 256]]           \n",
            "Model summary: 225 layers, 3011043 parameters, 3011027 gradients\n",
            "\n",
            "Transferred 319/355 items from pretrained weights\n",
            "\u001b[34m\u001b[1mTensorBoard: \u001b[0mStart with 'tensorboard --logdir runs/detect/yolov8n_raf_e10_b642', view at http://localhost:6006/\n",
            "\u001b[34m\u001b[1mAMP: \u001b[0mrunning Automatic Mixed Precision (AMP) checks with YOLOv8n...\n",
            "\u001b[34m\u001b[1mAMP: \u001b[0mchecks passed ✅\n",
            "\u001b[34m\u001b[1mtrain: \u001b[0mScanning /content/raf_dataset/labels/train... 12271 images, 0 backgrounds, 0 corrupt: 100%|██████████| 12271/12271 [00:05<00:00, 2280.90it/s]\n",
            "\u001b[34m\u001b[1mtrain: \u001b[0mNew cache created: /content/raf_dataset/labels/train.cache\n",
            "\u001b[34m\u001b[1malbumentations: \u001b[0mBlur(p=0.01, blur_limit=(3, 7)), MedianBlur(p=0.01, blur_limit=(3, 7)), ToGray(p=0.01), CLAHE(p=0.01, clip_limit=(1, 4.0), tile_grid_size=(8, 8))\n",
            "\u001b[34m\u001b[1mval: \u001b[0mScanning /content/raf_dataset/labels/val... 3068 images, 0 backgrounds, 0 corrupt: 100%|██████████| 3068/3068 [00:02<00:00, 1469.84it/s]\n",
            "\u001b[34m\u001b[1mval: \u001b[0mNew cache created: /content/raf_dataset/labels/val.cache\n",
            "Plotting labels to runs/detect/yolov8n_raf_e10_b642/labels.jpg... \n",
            "\u001b[34m\u001b[1moptimizer:\u001b[0m AdamW(lr=0.002, momentum=0.9) with parameter groups 57 weight(decay=0.0), 64 weight(decay=0.0005), 63 bias(decay=0.0)\n",
            "Image sizes 640 train, 640 val\n",
            "Using 2 dataloader workers\n",
            "Logging results to \u001b[1mruns/detect/yolov8n_raf_e10_b642\u001b[0m\n",
            "Starting training for 10 epochs...\n",
            "\n",
            "      Epoch    GPU_mem   box_loss   cls_loss   dfl_loss  Instances       Size\n",
            "       1/10      8.72G      1.071      1.208       1.15         91        640: 100%|██████████| 192/192 [04:41<00:00,  1.46s/it]\n",
            "                 Class     Images  Instances      Box(P          R      mAP50  mAP50-95): 100%|██████████| 24/24 [00:56<00:00,  2.36s/it]\n",
            "                   all       3068       3068      0.964      0.952      0.983      0.747\n",
            "\n",
            "      Epoch    GPU_mem   box_loss   cls_loss   dfl_loss  Instances       Size\n",
            "       2/10      8.07G     0.9655     0.6255      1.048        103        640: 100%|██████████| 192/192 [04:30<00:00,  1.41s/it]\n",
            "                 Class     Images  Instances      Box(P          R      mAP50  mAP50-95): 100%|██████████| 24/24 [00:54<00:00,  2.27s/it]\n",
            "                   all       3068       3068      0.941      0.974      0.977      0.724\n",
            "\n",
            "      Epoch    GPU_mem   box_loss   cls_loss   dfl_loss  Instances       Size\n",
            "       3/10      8.04G     0.9584     0.5475       1.05        100        640: 100%|██████████| 192/192 [04:28<00:00,  1.40s/it]\n",
            "                 Class     Images  Instances      Box(P          R      mAP50  mAP50-95): 100%|██████████| 24/24 [00:56<00:00,  2.34s/it]\n",
            "                   all       3068       3068      0.965      0.881      0.931      0.671\n",
            "\n",
            "      Epoch    GPU_mem   box_loss   cls_loss   dfl_loss  Instances       Size\n",
            "       4/10      8.04G     0.9228     0.5016      1.035        102        640: 100%|██████████| 192/192 [04:29<00:00,  1.40s/it]\n",
            "                 Class     Images  Instances      Box(P          R      mAP50  mAP50-95): 100%|██████████| 24/24 [00:54<00:00,  2.26s/it]\n",
            "                   all       3068       3068      0.969      0.968      0.985      0.775\n",
            "\n",
            "      Epoch    GPU_mem   box_loss   cls_loss   dfl_loss  Instances       Size\n",
            "       5/10      8.04G     0.9013     0.4708      1.025        107        640: 100%|██████████| 192/192 [04:25<00:00,  1.38s/it]\n",
            "                 Class     Images  Instances      Box(P          R      mAP50  mAP50-95): 100%|██████████| 24/24 [00:53<00:00,  2.24s/it]\n",
            "                   all       3068       3068      0.992      0.987      0.994      0.796\n",
            "\n",
            "      Epoch    GPU_mem   box_loss   cls_loss   dfl_loss  Instances       Size\n",
            "       6/10      8.04G     0.8688     0.4437      1.011        102        640: 100%|██████████| 192/192 [04:28<00:00,  1.40s/it]\n",
            "                 Class     Images  Instances      Box(P          R      mAP50  mAP50-95): 100%|██████████| 24/24 [00:56<00:00,  2.35s/it]\n",
            "                   all       3068       3068      0.975      0.987      0.992      0.804\n",
            "\n",
            "      Epoch    GPU_mem   box_loss   cls_loss   dfl_loss  Instances       Size\n",
            "       7/10      8.04G     0.8405     0.4227          1        102        640: 100%|██████████| 192/192 [04:25<00:00,  1.38s/it]\n",
            "                 Class     Images  Instances      Box(P          R      mAP50  mAP50-95): 100%|██████████| 24/24 [00:50<00:00,  2.10s/it]\n",
            "                   all       3068       3068       0.99       0.99      0.994      0.815\n",
            "\n",
            "      Epoch    GPU_mem   box_loss   cls_loss   dfl_loss  Instances       Size\n",
            "       8/10      8.04G     0.8249      0.401     0.9947         92        640: 100%|██████████| 192/192 [04:26<00:00,  1.39s/it]\n",
            "                 Class     Images  Instances      Box(P          R      mAP50  mAP50-95): 100%|██████████| 24/24 [00:52<00:00,  2.17s/it]\n",
            "                   all       3068       3068      0.988      0.994      0.993      0.815\n",
            "\n",
            "      Epoch    GPU_mem   box_loss   cls_loss   dfl_loss  Instances       Size\n",
            "       9/10      8.04G     0.7993     0.3823     0.9865         94        640: 100%|██████████| 192/192 [04:24<00:00,  1.38s/it]\n",
            "                 Class     Images  Instances      Box(P          R      mAP50  mAP50-95): 100%|██████████| 24/24 [00:55<00:00,  2.32s/it]\n",
            "                   all       3068       3068      0.992      0.993      0.994      0.831\n",
            "\n",
            "      Epoch    GPU_mem   box_loss   cls_loss   dfl_loss  Instances       Size\n",
            "      10/10      8.04G     0.7849     0.3646     0.9816         98        640: 100%|██████████| 192/192 [04:25<00:00,  1.39s/it]\n",
            "                 Class     Images  Instances      Box(P          R      mAP50  mAP50-95): 100%|██████████| 24/24 [01:00<00:00,  2.50s/it]\n",
            "                   all       3068       3068      0.991      0.996      0.994      0.839\n",
            "\n",
            "10 epochs completed in 0.903 hours.\n",
            "Optimizer stripped from runs/detect/yolov8n_raf_e10_b642/weights/last.pt, 6.2MB\n",
            "Optimizer stripped from runs/detect/yolov8n_raf_e10_b642/weights/best.pt, 6.2MB\n",
            "\n",
            "Validating runs/detect/yolov8n_raf_e10_b642/weights/best.pt...\n",
            "Ultralytics YOLOv8.0.121 🚀 Python-3.10.12 torch-2.0.1+cu118 CUDA:0 (Tesla T4, 15102MiB)\n",
            "Model summary (fused): 168 layers, 3005843 parameters, 0 gradients\n",
            "                 Class     Images  Instances      Box(P          R      mAP50  mAP50-95): 100%|██████████| 24/24 [00:55<00:00,  2.29s/it]\n",
            "                   all       3068       3068      0.991      0.996      0.994      0.839\n",
            "Speed: 0.6ms preprocess, 1.6ms inference, 0.0ms loss, 2.1ms postprocess per image\n",
            "Results saved to \u001b[1mruns/detect/yolov8n_raf_e10_b642\u001b[0m\n"
          ]
        },
        {
          "output_type": "stream",
          "name": "stdout",
          "text": [
            "2023-06-22 11:48:51,423 - clearml.Task - INFO - Completed model upload to https://files.clear.ml/Emotion%20detection/yolov8n_raf_e10_b64.f8c0f0cfccf748488ef323c048f0c974/models/best.pt\n"
          ]
        },
        {
          "output_type": "display_data",
          "data": {
            "text/plain": [
              "<Figure size 640x480 with 1 Axes>"
            ],
            "image/png": "[encoded data removed]"
          },
          "metadata": {}
        },
        {
          "output_type": "display_data",
          "data": {
            "text/plain": [
              "<Figure size 640x480 with 1 Axes>"
            ],
            "image/png": "[encoded data removed]"
          },
          "metadata": {}
        },
        {
          "output_type": "display_data",
          "data": {
            "text/plain": [
              "<Figure size 640x480 with 1 Axes>"
            ],
            "image/png": "[encoded data removed]"
          },
          "metadata": {}
        },
        {
          "output_type": "display_data",
          "data": {
            "text/plain": [
              "<Figure size 640x480 with 1 Axes>"
            ],
            "image/png": "[encoded data removed]"
          },
          "metadata": {}
        },
        {
          "output_type": "display_data",
          "data": {
            "text/plain": [
              "<Figure size 640x480 with 1 Axes>"
            ],
            "image/png": "[encoded data removed]"
          },
          "metadata": {}
        },
        {
          "output_type": "display_data",
          "data": {
            "text/plain": [
              "<Figure size 640x480 with 1 Axes>"
            ],
            "image/png": "[encoded data removed]"
          },
          "metadata": {}
        },
        {
          "output_type": "display_data",
          "data": {
            "text/plain": [
              "<Figure size 640x480 with 1 Axes>"
            ],
            "image/png": "[encoded data removed]"
          },
          "metadata": {}
        }
      ]
    },
    {
      "cell_type": "code",
      "source": [
        "#task.close()"
      ],
      "metadata": {
        "id": "oIx5E519KA4e"
      },
      "execution_count": null,
      "outputs": []
    },
    {
      "cell_type": "markdown",
      "source": [
        "#### Тестирование"
      ],
      "metadata": {
        "id": "lGlfiDPYfjkI"
      }
    },
    {
      "cell_type": "markdown",
      "source": [
        "Теперь проверим обученную YOLOv8 на тестовой части нашего датасета"
      ],
      "metadata": {
        "id": "SjGrE5WQhG8f"
      }
    },
    {
      "cell_type": "code",
      "source": [
        "model = YOLO('best.pt')"
      ],
      "metadata": {
        "id": "FiiLmqyhKIoH"
      },
      "execution_count": null,
      "outputs": []
    },
    {
      "cell_type": "code",
      "source": [
        "for item in test_img_files:\n",
        "    img_name = '/content/raf_face_original/original/' + item[0]\n",
        "    bbox_name = '/content/raf_face_bbox/boundingbox/' + item[0][:-4] + '_boundingbox.txt'\n",
        "    with open(bbox_name) as file:\n",
        "        for line in file:\n",
        "            bbox_true = list(map(float, line.rstrip().split(' ')))\n",
        "    print(bbox_true)\n",
        "    results = model.predict(source=img_name, device=device, max_det=1, save=True)\n",
        "    for result in results:\n",
        "        boxes = result.boxes.xyxy\n",
        "    print(boxes)\n",
        "    break"
      ],
      "metadata": {
        "colab": {
          "base_uri": "https://localhost:8080/"
        },
        "id": "dD8NpwhGZmav",
        "outputId": "e615ca40-3287-4ff3-9f27-2b41701ed7ba"
      },
      "execution_count": null,
      "outputs": [
        {
          "output_type": "stream",
          "name": "stderr",
          "text": [
            "\n",
            "image 1/1 /content/raf_face_original/original/test_0001.jpg: 640x448 1 face, 9.2ms\n",
            "Speed: 4.9ms preprocess, 9.2ms inference, 1.9ms postprocess per image at shape (1, 3, 640, 640)\n",
            "Results saved to \u001b[1mruns/detect/predict\u001b[0m\n"
          ]
        },
        {
          "output_type": "stream",
          "name": "stdout",
          "text": [
            "[153.84108, 130.382935, 327.412231, 355.140106]\n",
            "tensor([[150.8670, 134.5531, 319.5612, 352.9557]], device='cuda:0')\n"
          ]
        }
      ]
    },
    {
      "cell_type": "code",
      "source": [
        "time_per_img = []\n",
        "iou_scores = []\n",
        "no_f_count = 0\n",
        "\n",
        "for item in test_img_files:\n",
        "    img_name = '/content/raf_face_original/original/' + item[0]\n",
        "    bbox_name = '/content/raf_face_bbox/boundingbox/' + item[0][:-4] + '_boundingbox.txt'\n",
        "    with open(bbox_name) as file:\n",
        "        for line in file:\n",
        "            bbox_true = list(map(float, line.rstrip().split(' ')))\n",
        "\n",
        "    start_time = time.time()\n",
        "    results = model.predict(source=img_name, device=device, max_det=1)\n",
        "    for result in results:\n",
        "        boxes = result.boxes.xyxy\n",
        "    time_per_img.append(time.time() - start_time)\n",
        "    if boxes.nelement() != 0:\n",
        "        bbox_pred = boxes[0].cuda().tolist()\n",
        "        iou_scores.append(iou(bbox_true, bbox_pred))\n",
        "    elif boxes.nelement() == 0:\n",
        "        iou_scores.append(0)\n",
        "        no_f_count += 1\n",
        "\n",
        "print(\"YOLOv8n\")\n",
        "print(f\"Размер выборки: {len(test_img_files)}\")\n",
        "print(f\"Не найдено лиц: {no_f_count} ({no_f_count / len(test_img_files) * 100}%)\")\n",
        "print(f\"Ср. время: {sum(time_per_img) / len(time_per_img)}\")\n",
        "print(f\"Ср. IoU: {sum(iou_scores) / len(iou_scores)}\")"
      ],
      "metadata": {
        "id": "bP40H4puOyRu"
      },
      "execution_count": null,
      "outputs": []
    },
    {
      "cell_type": "markdown",
      "source": [
        "YOLOv8n\n",
        "\n",
        "Размер выборки: 3068\n",
        "\n",
        "Не найдено лиц: 1 (0.03259452411994785%)\n",
        "\n",
        "Ср. время: 0.030837816629447092\n",
        "\n",
        "Ср. IoU: 0.8998991150169982"
      ],
      "metadata": {
        "id": "1tJ-i0lnhVeS"
      }
    },
    {
      "cell_type": "markdown",
      "source": [
        "Выводится очень много логов, поэтому я их удалил а результаты вынес в отдельную Markdown ячейку."
      ],
      "metadata": {
        "id": "vaWWqM0aheA0"
      }
    },
    {
      "cell_type": "markdown",
      "source": [
        "### Вывод"
      ],
      "metadata": {
        "id": "NYjlLe8oh50g"
      }
    },
    {
      "cell_type": "markdown",
      "source": [
        "YOLOv8n показала себя лучше других по всем показателям, поэтому этот вариант и возьмем для детекции лиц!"
      ],
      "metadata": {
        "id": "9lxsfThdUBKy"
      }
    },
    {
      "cell_type": "markdown",
      "source": [
        "## Классификатор эмоций"
      ],
      "metadata": {
        "id": "phBStLuyiJGW"
      }
    },
    {
      "cell_type": "markdown",
      "source": [
        "Теперь выберем классификатор"
      ],
      "metadata": {
        "id": "y6IJTFnzaE6C"
      }
    },
    {
      "cell_type": "markdown",
      "source": [
        "### Загрузка и подготовка данных"
      ],
      "metadata": {
        "id": "A-sdHliSid7i"
      }
    },
    {
      "cell_type": "code",
      "source": [
        "!unzip /content/drive/MyDrive/raf_face_dataset/aligned.zip -d /content/raf_face_aligned/"
      ],
      "metadata": {
        "id": "lDgX7mGsimUk"
      },
      "execution_count": null,
      "outputs": []
    },
    {
      "cell_type": "code",
      "source": [
        "raf_labels = {\n",
        "    1: 'surprise',\n",
        "    2: 'fear',\n",
        "    3: 'disgust',\n",
        "    4: 'happy',\n",
        "    5: 'sad',\n",
        "    6: 'angry',\n",
        "    7: 'neutral',\n",
        "}"
      ],
      "metadata": {
        "id": "ThIPEuvGkzfw"
      },
      "execution_count": null,
      "outputs": []
    },
    {
      "cell_type": "code",
      "source": [
        "!mkdir train"
      ],
      "metadata": {
        "id": "jfeHQiHdjMez"
      },
      "execution_count": null,
      "outputs": []
    },
    {
      "cell_type": "code",
      "source": [
        "!mkdir valid"
      ],
      "metadata": {
        "id": "DI27aJc2kFPa"
      },
      "execution_count": null,
      "outputs": []
    },
    {
      "cell_type": "code",
      "source": [
        "#!rm -rf train valid"
      ],
      "metadata": {
        "id": "2MwGzKyjpUzH"
      },
      "execution_count": null,
      "outputs": []
    },
    {
      "cell_type": "code",
      "source": [
        "for folder in [train_img_files, test_img_files]:\n",
        "    for item in tqdm(folder):\n",
        "        img_name, label = item\n",
        "        old_dir_path = '/content/raf_face_aligned/aligned/' + img_name[:-4] + '_aligned.jpg'\n",
        "        if 'train_' in img_name:\n",
        "            new_dir = f\"/content/train/{raf_labels[label]}\"\n",
        "            new_dir_path = f\"/content/train/{raf_labels[label]}/{img_name[:-4]}_aligned.jpg\"\n",
        "        if 'test_' in img_name:\n",
        "            new_dir = f\"/content/valid/{raf_labels[label]}\"\n",
        "            new_dir_path = f\"/content/valid/{raf_labels[label]}/{img_name[:-4]}_aligned.jpg\"\n",
        "        if not os.path.exists(new_dir):\n",
        "            os.makedirs(new_dir)\n",
        "        with Image.open(old_dir_path) as img:\n",
        "            img.load()\n",
        "        img.save(new_dir_path)\n"
      ],
      "metadata": {
        "colab": {
          "base_uri": "https://localhost:8080/",
          "height": 81,
          "referenced_widgets": [
            "3b853338b6f04c0c9a36d60244c44ca2",
            "56a847f33c9f4ba290905beee2d994b3",
            "a03a2d2791174bc793019ac4329eca06",
            "bdefd711ebcb43d08105dcc68418bc4e",
            "c0f115101de54b98a7644d1d0ef19b5b",
            "f71786fd076c4e2298fe458cddca95c7",
            "e2922f71508043cf9aadbccba59ddbbd",
            "38962396618545c5a861cc611a5863e8",
            "5daa3a38fafd470981fbe16f31d701dd",
            "119c71a6f1cf4c8489c9c464749b3c1c",
            "588c4f1fac6345a68aab1aa7611b770d",
            "07c9b4373d144ddd9cb0b64df9a5f9f1",
            "46c472c22f9b427fbe0fe44239428fe5",
            "4f971371389d4c14a1a23035d8eebd8d",
            "8bae5d8c322441208d72a62a72262763",
            "bf84d92477b940768f6392bf5347ee3e",
            "c467591329e9410f8ea5da37d3960263",
            "a4a4fc1a743a41c0866a730f3b50a1f7",
            "c2c3a6c78361466da4b4c2f4e972d906",
            "df59ecb8bf844f848c089b959c6bca51",
            "efb8ea89cd5747bf9defb09f5ca0a1ad",
            "1049f3975f2543da9229beb5e3ca7e11"
          ]
        },
        "id": "223TFe_nlkDN",
        "outputId": "5c281b7d-6b62-4d40-c5d8-2292b17f62cf"
      },
      "execution_count": null,
      "outputs": [
        {
          "output_type": "display_data",
          "data": {
            "text/plain": [
              "  0%|          | 0/12271 [00:00<?, ?it/s]"
            ],
            "application/vnd.jupyter.widget-view+json": {
              "version_major": 2,
              "version_minor": 0,
              "model_id": "3b853338b6f04c0c9a36d60244c44ca2"
            }
          },
          "metadata": {}
        },
        {
          "output_type": "display_data",
          "data": {
            "text/plain": [
              "  0%|          | 0/3068 [00:00<?, ?it/s]"
            ],
            "application/vnd.jupyter.widget-view+json": {
              "version_major": 2,
              "version_minor": 0,
              "model_id": "07c9b4373d144ddd9cb0b64df9a5f9f1"
            }
          },
          "metadata": {}
        }
      ]
    },
    {
      "cell_type": "code",
      "source": [
        "t_train = transforms.Compose([\n",
        "    transforms.RandomRotation(15),\n",
        "    transforms.Grayscale(num_output_channels=3),\n",
        "    transforms.ToTensor(),\n",
        "    transforms.Normalize([0.5, 0.5, 0.5], [0.5, 0.5, 0.5])\n",
        "    ])\n",
        "t_val = transforms.Compose([\n",
        "    transforms.Grayscale(num_output_channels=3),\n",
        "    transforms.ToTensor(),\n",
        "    transforms.Normalize([0.5, 0.5, 0.5], [0.5, 0.5, 0.5])\n",
        "    ])"
      ],
      "metadata": {
        "id": "Cyx7gLXYi8uO"
      },
      "execution_count": null,
      "outputs": []
    },
    {
      "cell_type": "code",
      "source": [
        "train_dataset = datasets.ImageFolder(root='train', transform=t_train)\n",
        "valid_dataset = datasets.ImageFolder(root='valid', transform=t_val)"
      ],
      "metadata": {
        "id": "PvdgvDNPpsSW"
      },
      "execution_count": null,
      "outputs": []
    },
    {
      "cell_type": "code",
      "source": [
        "train_loader = DataLoader(train_dataset, batch_size=256, shuffle=True, num_workers=2)\n",
        "val_loader = DataLoader(valid_dataset, batch_size=256, shuffle=False, num_workers=2)"
      ],
      "metadata": {
        "id": "-FpOtrnNqMp6"
      },
      "execution_count": null,
      "outputs": []
    },
    {
      "cell_type": "code",
      "source": [
        "new_raf_labels = {\n",
        "    0: 'surprise',\n",
        "    1: 'fear',\n",
        "    2: 'disgust',\n",
        "    3: 'happy',\n",
        "    4: 'sad',\n",
        "    5: 'angry',\n",
        "    6: 'neutral',\n",
        "}"
      ],
      "metadata": {
        "id": "LZwDQmhJrPGI"
      },
      "execution_count": null,
      "outputs": []
    },
    {
      "cell_type": "markdown",
      "source": [
        "### Подбор оптимальной модели InceptionResnetV1"
      ],
      "metadata": {
        "id": "wXGweGsYip9E"
      }
    },
    {
      "cell_type": "markdown",
      "source": [
        "#### InceptionResnetV1(pretrained='vggface2')"
      ],
      "metadata": {
        "id": "xhACflUriyb1"
      }
    },
    {
      "cell_type": "code",
      "source": [
        "resnet = InceptionResnetV1(\n",
        "    classify=True,\n",
        "    pretrained='vggface2',\n",
        "    num_classes=7).to(device)"
      ],
      "metadata": {
        "id": "BU0x4FLlrY6I"
      },
      "execution_count": null,
      "outputs": []
    },
    {
      "cell_type": "code",
      "source": [
        "optimizer = optim.Adam(resnet.parameters(), lr=0.001)\n",
        "scheduler = MultiStepLR(optimizer, [4, 8, 10])\n",
        "loss_fn = torch.nn.CrossEntropyLoss()\n",
        "metrics = {\n",
        "    'fps': training.BatchTimer(),\n",
        "    'acc': training.accuracy\n",
        "}"
      ],
      "metadata": {
        "id": "iwRsehc2rwxX"
      },
      "execution_count": null,
      "outputs": []
    },
    {
      "cell_type": "code",
      "source": [
        "epochs = 12\n",
        "\n",
        "writer = SummaryWriter()\n",
        "writer.iteration, writer.interval = 0, 10\n",
        "\n",
        "print('\\n\\nInitial')\n",
        "print('-' * 10)\n",
        "resnet.eval()\n",
        "training.pass_epoch(\n",
        "    resnet, loss_fn, val_loader,\n",
        "    batch_metrics=metrics, show_running=True, device=device,\n",
        "    writer=writer\n",
        ")\n",
        "\n",
        "for epoch in range(epochs):\n",
        "    print('\\nEpoch {}/{}'.format(epoch + 1, epochs))\n",
        "    print('-' * 10)\n",
        "\n",
        "    resnet.train()\n",
        "    training.pass_epoch(\n",
        "        resnet, loss_fn, train_loader, optimizer, scheduler,\n",
        "        batch_metrics=metrics, show_running=True, device=device,\n",
        "        writer=writer\n",
        "    )\n",
        "\n",
        "    resnet.eval()\n",
        "    training.pass_epoch(\n",
        "        resnet, loss_fn, val_loader,\n",
        "        batch_metrics=metrics, show_running=True, device=device,\n",
        "        writer=writer\n",
        "    )\n",
        "\n",
        "writer.close()"
      ],
      "metadata": {
        "colab": {
          "base_uri": "https://localhost:8080/"
        },
        "id": "azzMfVfLr-Is",
        "outputId": "400b41cb-b91d-4be9-9b86-2b8b14eb405f"
      },
      "execution_count": null,
      "outputs": [
        {
          "output_type": "stream",
          "name": "stdout",
          "text": [
            "\n",
            "\n",
            "Initial\n",
            "----------\n",
            "Valid |    24/24   | loss:    3.1680 | fps:  986.6985 | acc:    0.1394   \n",
            "\n",
            "Epoch 1/12\n",
            "----------\n",
            "Train |    96/96   | loss:    0.9759 | fps:  613.9241 | acc:    0.6657   \n",
            "Valid |    24/24   | loss:    0.7380 | fps: 1441.7354 | acc:    0.7413   \n",
            "\n",
            "Epoch 2/12\n",
            "----------\n",
            "Train |    96/96   | loss:    0.6788 | fps:  613.0696 | acc:    0.7647   \n",
            "Valid |    24/24   | loss:    0.6679 | fps: 1138.8964 | acc:    0.7786   \n",
            "\n",
            "Epoch 3/12\n",
            "----------\n",
            "Train |    96/96   | loss:    0.5566 | fps:  609.2182 | acc:    0.8099   \n",
            "Valid |    24/24   | loss:    0.6313 | fps: 1452.9604 | acc:    0.7870   \n",
            "\n",
            "Epoch 4/12\n",
            "----------\n",
            "Train |    96/96   | loss:    0.4705 | fps:  587.1344 | acc:    0.8362   \n",
            "Valid |    24/24   | loss:    0.5817 | fps: 1396.1699 | acc:    0.8132   \n",
            "\n",
            "Epoch 5/12\n",
            "----------\n",
            "Train |    96/96   | loss:    0.3188 | fps:  625.4083 | acc:    0.8929   \n",
            "Valid |    24/24   | loss:    0.4783 | fps: 1119.3749 | acc:    0.8504   \n",
            "\n",
            "Epoch 6/12\n",
            "----------\n",
            "Train |    96/96   | loss:    0.2222 | fps:  611.0688 | acc:    0.9268   \n",
            "Valid |    24/24   | loss:    0.4889 | fps: 1380.1982 | acc:    0.8583   \n",
            "\n",
            "Epoch 7/12\n",
            "----------\n",
            "Train |    96/96   | loss:    0.1708 | fps:  622.3936 | acc:    0.9434   \n",
            "Valid |    24/24   | loss:    0.5129 | fps:  959.3164 | acc:    0.8573   \n",
            "\n",
            "Epoch 8/12\n",
            "----------\n",
            "Train |    96/96   | loss:    0.1414 | fps:  619.3420 | acc:    0.9541   \n",
            "Valid |    24/24   | loss:    0.5670 | fps: 1446.1586 | acc:    0.8527   \n",
            "\n",
            "Epoch 9/12\n",
            "----------\n",
            "Train |    96/96   | loss:    0.1067 | fps:  590.3603 | acc:    0.9653   \n",
            "Valid |    24/24   | loss:    0.5580 | fps: 1456.1757 | acc:    0.8550   \n",
            "\n",
            "Epoch 10/12\n",
            "----------\n",
            "Train |    96/96   | loss:    0.0919 | fps:  618.1135 | acc:    0.9715   \n",
            "Valid |    24/24   | loss:    0.5699 | fps: 1197.2211 | acc:    0.8537   \n",
            "\n",
            "Epoch 11/12\n",
            "----------\n",
            "Train |    96/96   | loss:    0.0896 | fps:  594.3027 | acc:    0.9721   \n",
            "Valid |    24/24   | loss:    0.5625 | fps: 1367.5454 | acc:    0.8586   \n",
            "\n",
            "Epoch 12/12\n",
            "----------\n",
            "Train |    96/96   | loss:    0.0874 | fps:  579.7142 | acc:    0.9725   \n",
            "Valid |    24/24   | loss:    0.5705 | fps:  961.9649 | acc:    0.8537   \n"
          ]
        }
      ]
    },
    {
      "cell_type": "markdown",
      "source": [
        "**1 вариант**\n",
        "```\n",
        "t_train = transforms.Compose([\n",
        "        transforms.ToTensor(),\n",
        "        transforms.Normalize([0.5, 0.5, 0.5], [0.5, 0.5, 0.5])\n",
        "    ])\n",
        "t_val = transforms.Compose([\n",
        "        transforms.ToTensor(),\n",
        "        transforms.Normalize([0.5, 0.5, 0.5], [0.5, 0.5, 0.5])\n",
        "    ])\n",
        "```\n",
        "\n",
        "\n",
        "```\n",
        "resnet = InceptionResnetV1(classify=True,pretrained='vggface2', num_classes=7).to(device)\n",
        "```\n",
        "\n",
        "\n",
        "```\n",
        "optimizer = optim.Adam(resnet.parameters(), lr=0.001)\n",
        "scheduler = MultiStepLR(optimizer, [5, 10])\n",
        "```\n",
        "Epoch 15/15\n",
        "\n",
        "Train |    96/96   | loss:    0.0040 | fps:  617.9979 | acc:    0.9997\n",
        "\n",
        "Valid |    24/24   | loss:    0.7074 | fps: 1401.7793 | acc:    0.8478\n",
        "\n",
        "\n",
        "---\n",
        "\n",
        "**2 вариант**\n",
        "\n",
        "Тоже самое, только\n",
        "\n",
        "\n",
        "```\n",
        "t_train = transforms.Compose([\n",
        "    transforms.Grayscale(num_output_channels=3),\n",
        "    transforms.ToTensor(),\n",
        "    transforms.Normalize([0.5, 0.5, 0.5], [0.5, 0.5, 0.5])\n",
        "    ])\n",
        "t_val = transforms.Compose([\n",
        "    transforms.Grayscale(num_output_channels=3),\n",
        "    transforms.ToTensor(),\n",
        "    transforms.Normalize([0.5, 0.5, 0.5], [0.5, 0.5, 0.5])\n",
        "    ])\n",
        "```\n",
        "Epoch 15/15\n",
        "\n",
        "Train |    96/96   | loss:    0.0050 | fps:  619.4705 | acc:    0.9996\n",
        "\n",
        "Valid |    24/24   | loss:    0.6863 | fps:  796.3889 | acc:    0.8472\n",
        "\n",
        "\n",
        "\n",
        "---\n",
        "**3 вариант**\n",
        "\n",
        "\n",
        "```\n",
        "t_train = transforms.Compose([\n",
        "    transforms.RandomRotation(10),\n",
        "    transforms.ToTensor(),\n",
        "    transforms.Normalize([0.5, 0.5, 0.5], [0.5, 0.5, 0.5])\n",
        "    ])\n",
        "t_val = transforms.Compose([\n",
        "    transforms.ToTensor(),\n",
        "    transforms.Normalize([0.5, 0.5, 0.5], [0.5, 0.5, 0.5])\n",
        "    ])\n",
        "```\n",
        "\n",
        "\n",
        "```\n",
        "resnet = InceptionResnetV1(classify=True, pretrained='vggface2', num_classes=7).to(device)\n",
        "```\n",
        "\n",
        "\n",
        "```\n",
        "optimizer = optim.Adam(resnet.parameters(), lr=0.001)\n",
        "scheduler = MultiStepLR(optimizer, [4, 8, 10])\n",
        "loss_fn = torch.nn.CrossEntropyLoss()\n",
        "```\n",
        "Epoch 12/12\n",
        "\n",
        "Train |    96/96   | loss:    0.0874 | fps:  579.7142 | acc:    0.9725\n",
        "\n",
        "Valid |    24/24   | loss:    0.5705 | fps:  961.9649 | acc:    0.8537"
      ],
      "metadata": {
        "id": "E2SO-mEwv3cF"
      }
    },
    {
      "cell_type": "markdown",
      "source": [
        "#### InceptionResnetV1(pretrained='casia-webface')"
      ],
      "metadata": {
        "id": "2jHFvC4DjG95"
      }
    },
    {
      "cell_type": "code",
      "source": [
        "#task.close()\n",
        "task = Task.init(\n",
        "    project_name='Emotion detection',\n",
        "    task_name='resnet_casiawebface_gray',\n",
        "    tags=['resnet'])"
      ],
      "metadata": {
        "id": "a5G0Hd7cMSwU"
      },
      "execution_count": null,
      "outputs": []
    },
    {
      "cell_type": "code",
      "source": [
        "resnet_v2 = InceptionResnetV1(\n",
        "    classify=True,\n",
        "    pretrained='casia-webface',\n",
        "    num_classes=7).to(device)"
      ],
      "metadata": {
        "id": "HevMkuJPN6eD",
        "colab": {
          "base_uri": "https://localhost:8080/",
          "height": 67,
          "referenced_widgets": [
            "bb565ef105d14a4aabe17c34db40e01e",
            "9728bbde6ea844e1960a3b6730c1a1ee",
            "2fdf6227415e424c89c817be5d4662e2",
            "7c8c75514aa64fe18994152bff047c94",
            "7d50c0e1604f4663976a330a03a5b2f8",
            "0370f3bb66644cf8b2d97d1853ef9433",
            "6e5d9b2e3c2f446b91867eddce91e366",
            "7f4e63aadeab4bb1bcb4e2f9349a9d8e",
            "4e0e9f7d90d84d79a192160f9b1658cd",
            "54ae4a476e074b91b7bf7334bdfa4aba",
            "9e8cf1c96e9d4a2d90216f0063da972f"
          ]
        },
        "outputId": "77a8d58c-85be-4a4c-bc04-4a0dcc00acb3"
      },
      "execution_count": null,
      "outputs": [
        {
          "output_type": "display_data",
          "data": {
            "text/plain": [
              "  0%|          | 0.00/111M [00:00<?, ?B/s]"
            ],
            "application/vnd.jupyter.widget-view+json": {
              "version_major": 2,
              "version_minor": 0,
              "model_id": "bb565ef105d14a4aabe17c34db40e01e"
            }
          },
          "metadata": {}
        },
        {
          "output_type": "stream",
          "name": "stdout",
          "text": [
            "2023-06-28 13:30:11,551 - clearml.model - INFO - Selected model id: caf2ea6c68104bb78034001f56a4d248\n"
          ]
        }
      ]
    },
    {
      "cell_type": "code",
      "source": [
        "optimizer = optim.Adam(resnet_v2.parameters(), lr=0.001)\n",
        "scheduler = MultiStepLR(optimizer, [4, 8, 10])\n",
        "\n",
        "loss_fn = torch.nn.CrossEntropyLoss()\n",
        "metrics = {\n",
        "    'fps': training.BatchTimer(),\n",
        "    'acc': training.accuracy\n",
        "}"
      ],
      "metadata": {
        "id": "lPaStngVOBPM"
      },
      "execution_count": null,
      "outputs": []
    },
    {
      "cell_type": "code",
      "source": [
        "epochs = 12\n",
        "\n",
        "writer = SummaryWriter()\n",
        "writer.iteration, writer.interval = 0, 10\n",
        "\n",
        "print('\\n\\nInitial')\n",
        "print('-' * 10)\n",
        "resnet_v2.eval()\n",
        "training.pass_epoch(\n",
        "    resnet_v2, loss_fn, val_loader,\n",
        "    batch_metrics=metrics, show_running=True, device=device,\n",
        "    writer=writer\n",
        ")\n",
        "\n",
        "for epoch in range(epochs):\n",
        "    print('\\nEpoch {}/{}'.format(epoch + 1, epochs))\n",
        "    print('-' * 10)\n",
        "\n",
        "    resnet_v2.train()\n",
        "    training.pass_epoch(\n",
        "        resnet_v2, loss_fn, train_loader, optimizer, scheduler,\n",
        "        batch_metrics=metrics, show_running=True, device=device,\n",
        "        writer=writer\n",
        "    )\n",
        "\n",
        "    resnet_v2.eval()\n",
        "    training.pass_epoch(\n",
        "        resnet_v2, loss_fn, val_loader,\n",
        "        batch_metrics=metrics, show_running=True, device=device,\n",
        "        writer=writer\n",
        "    )\n",
        "\n",
        "writer.close()"
      ],
      "metadata": {
        "colab": {
          "base_uri": "https://localhost:8080/"
        },
        "id": "V96U592hPeWI",
        "outputId": "f6f2c350-97b3-45a8-963a-b899c5a070c5"
      },
      "execution_count": null,
      "outputs": [
        {
          "output_type": "stream",
          "name": "stdout",
          "text": [
            "\n",
            "\n",
            "Initial\n",
            "----------\n",
            "Valid |    12/12   | loss:    3.2181 | fps: 1413.7949 | acc:    0.1420   \n",
            "\n",
            "Epoch 1/12\n",
            "----------\n",
            "Train |    48/48   | loss:    0.9405 | fps:  622.2289 | acc:    0.6792   \n",
            "Valid |    12/12   | loss:    0.9442 | fps: 1278.4166 | acc:    0.7231   \n",
            "\n",
            "Epoch 2/12\n",
            "----------\n",
            "Train |    48/48   | loss:    0.5977 | fps:  640.8105 | acc:    0.7917   \n",
            "Valid |    12/12   | loss:    0.5973 | fps: 1776.0688 | acc:    0.8044   \n",
            "\n",
            "Epoch 3/12\n",
            "----------\n",
            "Train |    48/48   | loss:    0.4852 | fps:  612.9888 | acc:    0.8334   \n",
            "Valid |    12/12   | loss:    0.6342 | fps: 1586.7374 | acc:    0.7861   \n",
            "\n",
            "Epoch 4/12\n",
            "----------\n",
            "Train |    48/48   | loss:    0.4442 | fps:  631.1499 | acc:    0.8523   \n",
            "Valid |    12/12   | loss:    0.6610 | fps: 1431.8828 | acc:    0.7964   \n",
            "\n",
            "Epoch 5/12\n",
            "----------\n",
            "Train |    48/48   | loss:    0.2843 | fps:  605.8183 | acc:    0.9075   \n",
            "Valid |    12/12   | loss:    0.4681 | fps: 1213.2070 | acc:    0.8452   \n",
            "\n",
            "Epoch 6/12\n",
            "----------\n",
            "Train |    48/48   | loss:    0.2034 | fps:  617.2253 | acc:    0.9337   \n",
            "Valid |    12/12   | loss:    0.4799 | fps: 1105.8104 | acc:    0.8527   \n",
            "\n",
            "Epoch 7/12\n",
            "----------\n",
            "Train |    48/48   | loss:    0.1672 | fps:  619.9072 | acc:    0.9454   \n",
            "Valid |    12/12   | loss:    0.4951 | fps: 1461.5890 | acc:    0.8534   \n",
            "\n",
            "Epoch 8/12\n",
            "----------\n",
            "Train |    48/48   | loss:    0.1381 | fps:  609.2499 | acc:    0.9554   \n",
            "Valid |    12/12   | loss:    0.5122 | fps: 1410.1909 | acc:    0.8549   \n",
            "\n",
            "Epoch 9/12\n",
            "----------\n",
            "Train |    48/48   | loss:    0.1063 | fps:  611.0333 | acc:    0.9678   \n",
            "Valid |    12/12   | loss:    0.5002 | fps: 1264.2506 | acc:    0.8621   \n",
            "\n",
            "Epoch 10/12\n",
            "----------\n",
            "Train |    48/48   | loss:    0.1022 | fps:  594.2413 | acc:    0.9691   \n",
            "Valid |    12/12   | loss:    0.5154 | fps: 1509.8306 | acc:    0.8566   \n",
            "\n",
            "Epoch 11/12\n",
            "----------\n",
            "Train |    48/48   | loss:    0.0979 | fps:  611.1730 | acc:    0.9698   \n",
            "Valid |    12/12   | loss:    0.5096 | fps: 1063.7667 | acc:    0.8556   \n",
            "\n",
            "Epoch 12/12\n",
            "----------\n",
            "Train |    48/48   | loss:    0.0962 | fps:  606.1890 | acc:    0.9706   \n",
            "Valid |    12/12   | loss:    0.5098 | fps: 1609.1836 | acc:    0.8576   \n"
          ]
        }
      ]
    },
    {
      "cell_type": "code",
      "source": [
        "pkl_filename = 'resnet_casiawebface_gray.pkl'\n",
        "with open(pkl_filename, 'wb') as file:\n",
        "    pickle.dump(resnet_v2.cpu(), file)"
      ],
      "metadata": {
        "id": "EnkzCiYicd21"
      },
      "execution_count": null,
      "outputs": []
    },
    {
      "cell_type": "markdown",
      "source": [
        "**1 вариант**\n",
        "\n",
        "\n",
        "\n",
        "\n",
        "```\n",
        "t_train = transforms.Compose([\n",
        "    transforms.RandomRotation(15),\n",
        "    transforms.Grayscale(num_output_channels=3),\n",
        "    transforms.ToTensor(),\n",
        "    transforms.Normalize([0.5, 0.5, 0.5], [0.5, 0.5, 0.5])\n",
        "    ])\n",
        "t_val = transforms.Compose([\n",
        "    transforms.Grayscale(num_output_channels=3),\n",
        "    transforms.ToTensor(),\n",
        "    transforms.Normalize([0.5, 0.5, 0.5], [0.5, 0.5, 0.5])\n",
        "    ])\n",
        "```\n",
        "\n",
        "\n",
        "```\n",
        "optimizer = optim.Adam(resnet_v2.parameters(), lr=0.001)\n",
        "scheduler = MultiStepLR(optimizer, [4, 8, 10])\n",
        "```\n",
        "Epoch 12/12\n",
        "\n",
        "Train |    48/48   | loss:    0.0962 | fps:  606.1890 | acc:    0.9706\n",
        "\n",
        "Valid |    12/12   | loss:    0.5098 | fps: 1609.1836 | acc:    0.8576\n",
        "\n",
        "\n",
        "---\n",
        "\n",
        "**2 вариант**\n",
        "\n",
        "\n",
        "```\n",
        "optimizer = optim.Adam(resnet_v2.parameters(), lr=0.3e-4)\n",
        "scheduler = MultiStepLR(optimizer, [4, 8, 10, 12])\n",
        "```\n",
        "Epoch 15/15\n",
        "\n",
        "Train |    96/96   | loss:    0.1672 | fps:  589.3201 | acc:    0.9534\n",
        "\n",
        "Valid |    24/24   | loss:    0.5227 | fps: 1365.2736 | acc:    0.8374\n"
      ],
      "metadata": {
        "id": "IJnZZK-hTske"
      }
    },
    {
      "cell_type": "markdown",
      "source": [
        "#### InceptionResnetV1 с обучением на RAF Face Database"
      ],
      "metadata": {
        "id": "3GzSKMgvjlrQ"
      }
    },
    {
      "cell_type": "code",
      "source": [
        "resnet_v3 = InceptionResnetV1(\n",
        "    classify=True,\n",
        "    pretrained=None,\n",
        "    num_classes=7).to(device)"
      ],
      "metadata": {
        "id": "JLebpl-OgUBR"
      },
      "execution_count": null,
      "outputs": []
    },
    {
      "cell_type": "code",
      "source": [
        "optimizer = optim.Adam(resnet_v3.parameters(), lr=0.001)\n",
        "scheduler = MultiStepLR(optimizer, [5, 10, 15])\n",
        "\n",
        "loss_fn = torch.nn.CrossEntropyLoss()\n",
        "metrics = {\n",
        "    'fps': training.BatchTimer(),\n",
        "    'acc': training.accuracy\n",
        "}"
      ],
      "metadata": {
        "id": "R5ZR5KYegZlQ"
      },
      "execution_count": null,
      "outputs": []
    },
    {
      "cell_type": "code",
      "source": [
        "epochs = 20\n",
        "\n",
        "writer = SummaryWriter()\n",
        "writer.iteration, writer.interval = 0, 10\n",
        "\n",
        "print('\\n\\nInitial')\n",
        "print('-' * 10)\n",
        "resnet_v3.eval()\n",
        "training.pass_epoch(\n",
        "    resnet_v3, loss_fn, val_loader,\n",
        "    batch_metrics=metrics, show_running=True, device=device,\n",
        "    writer=writer\n",
        ")\n",
        "\n",
        "for epoch in range(epochs):\n",
        "    print('\\nEpoch {}/{}'.format(epoch + 1, epochs))\n",
        "    print('-' * 10)\n",
        "\n",
        "    resnet_v3.train()\n",
        "    training.pass_epoch(\n",
        "        resnet_v3, loss_fn, train_loader, optimizer, scheduler,\n",
        "        batch_metrics=metrics, show_running=True, device=device,\n",
        "        writer=writer\n",
        "    )\n",
        "\n",
        "    resnet_v3.eval()\n",
        "    training.pass_epoch(\n",
        "        resnet_v3, loss_fn, val_loader,\n",
        "        batch_metrics=metrics, show_running=True, device=device,\n",
        "        writer=writer\n",
        "    )\n",
        "\n",
        "writer.close()"
      ],
      "metadata": {
        "colab": {
          "base_uri": "https://localhost:8080/"
        },
        "id": "Yyi0OakHgcfy",
        "outputId": "9d3a5c7e-d7a8-49f1-f602-dd6ef4c9f916"
      },
      "execution_count": null,
      "outputs": [
        {
          "output_type": "stream",
          "name": "stdout",
          "text": [
            "\n",
            "\n",
            "Initial\n",
            "----------\n",
            "Valid |    24/24   | loss:    1.9544 | fps: 1393.0363 | acc:    0.0527   \n",
            "\n",
            "Epoch 1/20\n",
            "----------\n",
            "Train |    96/96   | loss:    1.6892 | fps:  638.3727 | acc:    0.4282   \n",
            "Valid |    24/24   | loss:    1.3226 | fps:  852.9870 | acc:    0.5359   \n",
            "\n",
            "Epoch 2/20\n",
            "----------\n",
            "Train |    96/96   | loss:    1.1731 | fps:  629.6318 | acc:    0.5884   \n",
            "Valid |    24/24   | loss:    1.1424 | fps: 1382.5436 | acc:    0.6232   \n",
            "\n",
            "Epoch 3/20\n",
            "----------\n",
            "Train |    96/96   | loss:    0.9521 | fps:  609.2770 | acc:    0.6612   \n",
            "Valid |    24/24   | loss:    0.8568 | fps: 1154.0612 | acc:    0.6972   \n",
            "\n",
            "Epoch 4/20\n",
            "----------\n",
            "Train |    96/96   | loss:    0.8237 | fps:  617.3022 | acc:    0.7064   \n",
            "Valid |    24/24   | loss:    0.8056 | fps: 1437.5455 | acc:    0.7171   \n",
            "\n",
            "Epoch 5/20\n",
            "----------\n",
            "Train |    96/96   | loss:    0.7456 | fps:  582.6738 | acc:    0.7377   \n",
            "Valid |    24/24   | loss:    1.4541 | fps: 1369.4502 | acc:    0.6624   \n",
            "\n",
            "Epoch 6/20\n",
            "----------\n",
            "Train |    96/96   | loss:    0.6333 | fps:  593.9095 | acc:    0.7811   \n",
            "Valid |    24/24   | loss:    0.6128 | fps: 1018.2646 | acc:    0.7833   \n",
            "\n",
            "Epoch 7/20\n",
            "----------\n",
            "Train |    96/96   | loss:    0.5529 | fps:  602.7669 | acc:    0.8061   \n",
            "Valid |    24/24   | loss:    0.5910 | fps: 1346.8075 | acc:    0.7973   \n",
            "\n",
            "Epoch 8/20\n",
            "----------\n",
            "Train |    96/96   | loss:    0.5123 | fps:  574.6985 | acc:    0.8211   \n",
            "Valid |    24/24   | loss:    0.5819 | fps: 1336.9739 | acc:    0.7996   \n",
            "\n",
            "Epoch 9/20\n",
            "----------\n",
            "Train |    96/96   | loss:    0.4833 | fps:  602.9048 | acc:    0.8288   \n",
            "Valid |    24/24   | loss:    0.5695 | fps:  825.8265 | acc:    0.8058   \n",
            "\n",
            "Epoch 10/20\n",
            "----------\n",
            "Train |    96/96   | loss:    0.4612 | fps:  599.4172 | acc:    0.8391   \n",
            "Valid |    24/24   | loss:    0.5739 | fps: 1356.0453 | acc:    0.7986   \n",
            "\n",
            "Epoch 11/20\n",
            "----------\n",
            "Train |    96/96   | loss:    0.4156 | fps:  588.4244 | acc:    0.8559   \n",
            "Valid |    24/24   | loss:    0.5632 | fps: 1425.1100 | acc:    0.8035   \n",
            "\n",
            "Epoch 12/20\n",
            "----------\n",
            "Train |    96/96   | loss:    0.4008 | fps:  604.4055 | acc:    0.8580   \n",
            "Valid |    24/24   | loss:    0.5636 | fps:  980.2000 | acc:    0.8012   \n",
            "\n",
            "Epoch 13/20\n",
            "----------\n",
            "Train |    96/96   | loss:    0.3873 | fps:  590.3752 | acc:    0.8645   \n",
            "Valid |    24/24   | loss:    0.5599 | fps: 1340.4591 | acc:    0.8005   \n",
            "\n",
            "Epoch 14/20\n",
            "----------\n",
            "Train |    96/96   | loss:    0.3878 | fps:  594.5322 | acc:    0.8660   \n",
            "Valid |    24/24   | loss:    0.5633 | fps: 1139.6598 | acc:    0.8051   \n",
            "\n",
            "Epoch 15/20\n",
            "----------\n",
            "Train |    96/96   | loss:    0.3800 | fps:  605.3496 | acc:    0.8701   \n",
            "Valid |    24/24   | loss:    0.5741 | fps: 1340.5406 | acc:    0.8065   \n",
            "\n",
            "Epoch 16/20\n",
            "----------\n",
            "Train |    96/96   | loss:    0.3759 | fps:  567.7222 | acc:    0.8713   \n",
            "Valid |    24/24   | loss:    0.5674 | fps: 1303.7778 | acc:    0.8041   \n",
            "\n",
            "Epoch 17/20\n",
            "----------\n",
            "Train |    96/96   | loss:    0.3693 | fps:  608.1362 | acc:    0.8710   \n",
            "Valid |    24/24   | loss:    0.5694 | fps:  869.1780 | acc:    0.8038   \n",
            "\n",
            "Epoch 18/20\n",
            "----------\n",
            "Train |    96/96   | loss:    0.3719 | fps:  606.2189 | acc:    0.8719   \n",
            "Valid |    24/24   | loss:    0.5684 | fps: 1282.2527 | acc:    0.8058   \n",
            "\n",
            "Epoch 19/20\n",
            "----------\n",
            "Train |    96/96   | loss:    0.3761 | fps:  577.2569 | acc:    0.8685   \n",
            "Valid |    24/24   | loss:    0.5686 | fps: 1348.7106 | acc:    0.8041   \n",
            "\n",
            "Epoch 20/20\n",
            "----------\n",
            "Train |    96/96   | loss:    0.3656 | fps:  603.5284 | acc:    0.8718   \n",
            "Valid |    24/24   | loss:    0.5689 | fps:  848.1443 | acc:    0.8048   \n"
          ]
        }
      ]
    },
    {
      "cell_type": "markdown",
      "source": [
        "### Вывод"
      ],
      "metadata": {
        "id": "f-QSVjz4jyeT"
      }
    },
    {
      "cell_type": "markdown",
      "source": [
        "По метрикам лучшей оказалась модель InceptionResnetV1(pretrained='casia-webface'), для обучения которой использовалось:\n",
        "1. 12 эпох;\n",
        "2. optimizer = optim.Adam(resnet_v2.parameters(), lr=0.001);\n",
        "3. scheduler = MultiStepLR(optimizer, [4, 8, 10])."
      ],
      "metadata": {
        "id": "KaNT0TWaj1OC"
      }
    },
    {
      "cell_type": "markdown",
      "source": [
        "### Матрица ошибок"
      ],
      "metadata": {
        "id": "_TNfIWX3kgEU"
      }
    },
    {
      "cell_type": "markdown",
      "source": [
        "Для выбранной модели классификации эмоций построим матрицу ошибок. Она хорошо покажет, в каких эмоциях модель путается, а какие определяет уверенно."
      ],
      "metadata": {
        "id": "bRbwc32dkjZl"
      }
    },
    {
      "cell_type": "code",
      "source": [
        "new_raf_labels = {\n",
        "    0: 'angry',\n",
        "    1: 'disgust',\n",
        "    2: 'fear',\n",
        "    3: 'happy',\n",
        "    4: 'neutral',\n",
        "    5: 'sad',\n",
        "    6: 'surprise'\n",
        "}"
      ],
      "metadata": {
        "id": "LvMhIr0-5lsS"
      },
      "execution_count": null,
      "outputs": []
    },
    {
      "cell_type": "code",
      "source": [
        "y_true = []\n",
        "y_pred = []\n",
        "face_transform = transforms.Compose([\n",
        "            transforms.Resize((100, 100)),\n",
        "            transforms.Grayscale(num_output_channels=3),\n",
        "            transforms.ToTensor(),\n",
        "            transforms.Normalize([0.5, 0.5, 0.5], [0.5, 0.5, 0.5])\n",
        "        ])\n",
        "resnet_v2 = resnet_v2.to(device).eval()\n",
        "\n",
        "for item in tqdm(test_img_files):\n",
        "    img_name = item[0]\n",
        "    img_path = '/content/raf_face_aligned/aligned/' + img_name[:-4] + '_aligned.jpg'\n",
        "    true_lbl = raf_labels[item[1]]\n",
        "    y_true.append(true_lbl)\n",
        "    with Image.open(img_path) as img:\n",
        "        img.load()\n",
        "    face = face_transform(img)\n",
        "    face = face.to(device)\n",
        "    face = torch.unsqueeze(face, 0)\n",
        "    pred_class = int(torch.argmax(resnet_v2(face), dim=1))\n",
        "    pred_label = new_raf_labels[pred_class]\n",
        "    y_pred.append(pred_label)"
      ],
      "metadata": {
        "colab": {
          "base_uri": "https://localhost:8080/",
          "height": 49,
          "referenced_widgets": [
            "7046c3d6f0d34567b4b7beb6b2446640",
            "3fe87f1adc66409cb2d096fca61ecee1",
            "36f3777d31c74d4d8a0b7ca221eb3604",
            "bb7183b71b4a4e508eec66e0a5c686eb",
            "fe3c32741eb341a9ac8f2f97d49e5a50",
            "6bab12d458b642a18b490c171cfc5ee1",
            "c8ea123b9faa4ee18d28851d65c53f6b",
            "6b1aaa1ac26940bcb517152607ad5c42",
            "be57039b45374efb9f916cdfca9001e9",
            "e2f5d4984f024bf6aff4c8cc432df200",
            "1ec20c89a2d74d1bb29ccc9bae4fdc0d"
          ]
        },
        "id": "YzK6qz3jN9-m",
        "outputId": "f24a8671-9de5-48c0-cd44-1eff3764b0b2"
      },
      "execution_count": null,
      "outputs": [
        {
          "output_type": "display_data",
          "data": {
            "text/plain": [
              "  0%|          | 0/3068 [00:00<?, ?it/s]"
            ],
            "application/vnd.jupyter.widget-view+json": {
              "version_major": 2,
              "version_minor": 0,
              "model_id": "7046c3d6f0d34567b4b7beb6b2446640"
            }
          },
          "metadata": {}
        }
      ]
    },
    {
      "cell_type": "code",
      "source": [
        "c_mat = confusion_matrix(y_true, y_pred, labels=['angry', 'disgust', 'fear', 'happy', 'neutral', 'sad', 'surprise'])"
      ],
      "metadata": {
        "id": "PuZIp4nYN97j"
      },
      "execution_count": null,
      "outputs": []
    },
    {
      "cell_type": "code",
      "source": [
        "plt.figure(figsize=(15,8))\n",
        "ax = sns.heatmap(c_mat, annot=True, cmap='Blues')\n",
        "ax.set_title('Confusion Matrix\\n');\n",
        "ax.set_xlabel('\\nPredicted Values')\n",
        "ax.set_ylabel('\\nTrue Values');\n",
        "ax.xaxis.set_ticklabels(['angry', 'disgust', 'fear', 'happy', 'neutral', 'sad', 'surprise'])\n",
        "ax.yaxis.set_ticklabels(['angry', 'disgust', 'fear', 'happy', 'neutral', 'sad', 'surprise'])\n",
        "plt.show()"
      ],
      "metadata": {
        "colab": {
          "base_uri": "https://localhost:8080/",
          "height": 776
        },
        "id": "LJroGz6XN90X",
        "outputId": "c847bd23-97c9-4cef-ff84-4c1297b066b2"
      },
      "execution_count": null,
      "outputs": [
        {
          "output_type": "display_data",
          "data": {
            "text/plain": [
              "<Figure size 1500x800 with 2 Axes>"
            ],
            "image/png": "[encoded data removed]"
          },
          "metadata": {}
        }
      ]
    },
    {
      "cell_type": "markdown",
      "source": [
        "Как можно заметить, в целом модель справляется хорошо. А больше всего она путает классы happy и neutral, neutral и sad."
      ],
      "metadata": {
        "id": "h58eR8lnk1EJ"
      }
    }
  ]
}